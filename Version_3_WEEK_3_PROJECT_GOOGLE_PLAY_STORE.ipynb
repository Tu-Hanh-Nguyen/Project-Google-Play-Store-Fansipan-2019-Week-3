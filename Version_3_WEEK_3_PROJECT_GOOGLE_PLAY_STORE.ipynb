{
  "nbformat": 4,
  "nbformat_minor": 0,
  "metadata": {
    "colab": {
      "name": "Version 3 WEEK 3 PROJECT - GOOGLE PLAY STORE.ipynb",
      "version": "0.3.2",
      "provenance": [],
      "collapsed_sections": []
    },
    "kernelspec": {
      "name": "python3",
      "display_name": "Python 3"
    }
  },
  "cells": [
    {
      "cell_type": "markdown",
      "metadata": {
        "id": "V_IWsQYyfXNt",
        "colab_type": "text"
      },
      "source": [
        "# This notebook covers the process of cleaning \"Google Play Store.csv\" dataset. Edited by Nguyen Hanh Tu\n",
        "\n",
        "## Are you ready to rumbllllllllllllllle?  Let's go"
      ]
    },
    {
      "cell_type": "markdown",
      "metadata": {
        "id": "s5W9NfxYf-_B",
        "colab_type": "text"
      },
      "source": [
        "# 1. Import the dataset, and create the dataframe\n"
      ]
    },
    {
      "cell_type": "code",
      "metadata": {
        "id": "5voeUbWRUmP1",
        "colab_type": "code",
        "colab": {}
      },
      "source": [
        "# We need the following libraries: io, numpy, pandas, seaborn and mathplotlib.\n",
        "\n",
        "import io\n",
        "import numpy as np\n",
        "import pandas as pd\n",
        "import seaborn as sns\n",
        "import matplotlib.pyplot as plt\n",
        "%matplotlib inline\n",
        "import warnings\n",
        "warnings.filterwarnings('ignore')\n"
      ],
      "execution_count": 0,
      "outputs": []
    },
    {
      "cell_type": "code",
      "metadata": {
        "id": "Ew1d2w_xiwdt",
        "colab_type": "code",
        "colab": {
          "base_uri": "https://localhost:8080/",
          "height": 131
        },
        "outputId": "1f56cb60-8852-4c67-852a-27973ee7d1f4"
      },
      "source": [
        "from google.colab import drive\n",
        "drive.mount('/content/drive')"
      ],
      "execution_count": 2,
      "outputs": [
        {
          "output_type": "stream",
          "text": [
            "Go to this URL in a browser: https://accounts.google.com/o/oauth2/auth?client_id=947318989803-6bn6qk8qdgf4n4g3pfee6491hc0brc4i.apps.googleusercontent.com&redirect_uri=urn%3Aietf%3Awg%3Aoauth%3A2.0%3Aoob&scope=email%20https%3A%2F%2Fwww.googleapis.com%2Fauth%2Fdocs.test%20https%3A%2F%2Fwww.googleapis.com%2Fauth%2Fdrive%20https%3A%2F%2Fwww.googleapis.com%2Fauth%2Fdrive.photos.readonly%20https%3A%2F%2Fwww.googleapis.com%2Fauth%2Fpeopleapi.readonly&response_type=code\n",
            "\n",
            "Enter your authorization code:\n",
            "··········\n",
            "Mounted at /content/drive\n"
          ],
          "name": "stdout"
        }
      ]
    },
    {
      "cell_type": "code",
      "metadata": {
        "id": "mAWLITHc7fi3",
        "colab_type": "code",
        "colab": {}
      },
      "source": [
        "# Next, we use pandas to put our dataset into a dataframe. \n",
        "df=pd.read_csv('/content/drive/My Drive/google-play-store.csv')\n",
        "df.head()"
      ],
      "execution_count": 0,
      "outputs": []
    },
    {
      "cell_type": "markdown",
      "metadata": {
        "id": "bz0VY6ithoWw",
        "colab_type": "text"
      },
      "source": [
        "# 2. Clean the dataframe"
      ]
    },
    {
      "cell_type": "markdown",
      "metadata": {
        "id": "bbwY2xuinaij",
        "colab_type": "text"
      },
      "source": [
        "## 2.1 Clean column \"Category\""
      ]
    },
    {
      "cell_type": "code",
      "metadata": {
        "id": "KVDCmAkJ9kfq",
        "colab_type": "code",
        "colab": {}
      },
      "source": [
        "# Check the unique data to see outliners and nones.\n",
        "\n",
        "df[\"Category\"].value_counts()\n",
        "\n",
        "# There is one line that has category of 1.9, which looks like a distortion data. So this one should be removed\n"
      ],
      "execution_count": 0,
      "outputs": []
    },
    {
      "cell_type": "code",
      "metadata": {
        "id": "xJ7xeIcMn5JB",
        "colab_type": "code",
        "colab": {}
      },
      "source": [
        "# Create new dataframe with no category \"1.9\"\n",
        "\n",
        "df = df[df.Category != \"1.9\"]\n"
      ],
      "execution_count": 0,
      "outputs": []
    },
    {
      "cell_type": "code",
      "metadata": {
        "id": "ZmqzZscyoqBi",
        "colab_type": "code",
        "colab": {}
      },
      "source": [
        "df[\"Category\"].value_counts()\n",
        "df.csv_"
      ],
      "execution_count": 0,
      "outputs": []
    },
    {
      "cell_type": "code",
      "metadata": {
        "id": "pePiH0JeKR_L",
        "colab_type": "code",
        "colab": {
          "base_uri": "https://localhost:8080/",
          "height": 567
        },
        "outputId": "17249e6b-ab96-4504-8316-cdc329c4ce47"
      },
      "source": [
        "df.Category.value_counts().plot(kind='bar', figsize=(22,7))"
      ],
      "execution_count": 5,
      "outputs": [
        {
          "output_type": "execute_result",
          "data": {
            "text/plain": [
              "<matplotlib.axes._subplots.AxesSubplot at 0x7f92819cbef0>"
            ]
          },
          "metadata": {
            "tags": []
          },
          "execution_count": 5
        },
        {
          "output_type": "display_data",
          "data": {
            "image/png": "[encoded data removed]",
            "text/plain": [
              "<Figure size 1584x504 with 1 Axes>"
            ]
          },
          "metadata": {
            "tags": []
          }
        }
      ]
    },
    {
      "cell_type": "markdown",
      "metadata": {
        "id": "gHAkUmQws9PQ",
        "colab_type": "text"
      },
      "source": [
        "### After removing the \"1.9\" column, we can move ahead.\n",
        "\n"
      ]
    },
    {
      "cell_type": "code",
      "metadata": {
        "id": "om8NPHvluu7V",
        "colab_type": "code",
        "colab": {}
      },
      "source": [
        "# %%HTML\n",
        "# <div>\n",
        "# <h3 style=\"text-align:center;\">After removing the \"1.9\" column, we can move ahead.</h3>\n",
        "# </div>"
      ],
      "execution_count": 0,
      "outputs": []
    },
    {
      "cell_type": "markdown",
      "metadata": {
        "id": "15woyAaaoEhJ",
        "colab_type": "text"
      },
      "source": [
        "## 2.2. Clean column \"Rating\""
      ]
    },
    {
      "cell_type": "code",
      "metadata": {
        "id": "4Gm8VGp1oI4c",
        "colab_type": "code",
        "colab": {}
      },
      "source": [
        "df[\"Rating\"].value_counts()"
      ],
      "execution_count": 0,
      "outputs": []
    },
    {
      "cell_type": "code",
      "metadata": {
        "id": "wsbuBYrZJLHc",
        "colab_type": "code",
        "colab": {}
      },
      "source": [
        "print(\"Range: \", df.Rating.min(),\"-\",df.Rating.max())\n",
        "df.Rating.dtype"
      ],
      "execution_count": 0,
      "outputs": []
    },
    {
      "cell_type": "code",
      "metadata": {
        "id": "NbusgX3eJWo1",
        "colab_type": "code",
        "colab": {
          "base_uri": "https://localhost:8080/",
          "height": 36
        },
        "outputId": "b5c5ddad-3ce8-4081-da76-c3c10f11b824"
      },
      "source": [
        "print(df.Rating.isna().sum(),\"none values out of\", len(df.Rating))"
      ],
      "execution_count": 9,
      "outputs": [
        {
          "output_type": "stream",
          "text": [
            "1474 none values out of 10840\n"
          ],
          "name": "stdout"
        }
      ]
    },
    {
      "cell_type": "code",
      "metadata": {
        "id": "5ETunjsvJhQK",
        "colab_type": "code",
        "colab": {
          "base_uri": "https://localhost:8080/",
          "height": 465
        },
        "outputId": "ec70161d-16e1-4235-a17c-092c1ef9c360"
      },
      "source": [
        "df.Rating.hist(figsize=(22,7));\n",
        "plt.xlabel('Rating')\n",
        "plt.ylabel('Frequency')"
      ],
      "execution_count": 10,
      "outputs": [
        {
          "output_type": "execute_result",
          "data": {
            "text/plain": [
              "Text(0, 0.5, 'Frequency')"
            ]
          },
          "metadata": {
            "tags": []
          },
          "execution_count": 10
        },
        {
          "output_type": "display_data",
          "data": {
            "image/png": "[encoded data removed]",
            "text/plain": [
              "<Figure size 1584x504 with 1 Axes>"
            ]
          },
          "metadata": {
            "tags": []
          }
        }
      ]
    },
    {
      "cell_type": "markdown",
      "metadata": {
        "id": "Sb6c4j3grKQa",
        "colab_type": "text"
      },
      "source": [
        "### Look like there are no need to clean this column."
      ]
    },
    {
      "cell_type": "markdown",
      "metadata": {
        "id": "fzjs8sdprPsP",
        "colab_type": "text"
      },
      "source": [
        "## 2.3 Check column \"Reviews\""
      ]
    },
    {
      "cell_type": "code",
      "metadata": {
        "id": "axbOuNuirZwU",
        "colab_type": "code",
        "colab": {}
      },
      "source": [
        "df[\"Reviews\"].value_counts()\n",
        "\n",
        "# This column has no outliners or missing values."
      ],
      "execution_count": 0,
      "outputs": []
    },
    {
      "cell_type": "code",
      "metadata": {
        "id": "tm2-XsmGI84T",
        "colab_type": "code",
        "colab": {
          "base_uri": "https://localhost:8080/",
          "height": 50
        },
        "outputId": "55ce9fdc-6c11-41b0-fa77-4a3b1a7fa4dd"
      },
      "source": [
        "df[~df.Reviews.str.isnumeric()]"
      ],
      "execution_count": 11,
      "outputs": [
        {
          "output_type": "execute_result",
          "data": {
            "text/html": [
              "<div>\n",
              "<style scoped>\n",
              "    .dataframe tbody tr th:only-of-type {\n",
              "        vertical-align: middle;\n",
              "    }\n",
              "\n",
              "    .dataframe tbody tr th {\n",
              "        vertical-align: top;\n",
              "    }\n",
              "\n",
              "    .dataframe thead th {\n",
              "        text-align: right;\n",
              "    }\n",
              "</style>\n",
              "<table border=\"1\" class=\"dataframe\">\n",
              "  <thead>\n",
              "    <tr style=\"text-align: right;\">\n",
              "      <th></th>\n",
              "      <th>App</th>\n",
              "      <th>Category</th>\n",
              "      <th>Rating</th>\n",
              "      <th>Reviews</th>\n",
              "      <th>Size</th>\n",
              "      <th>Installs</th>\n",
              "      <th>Type</th>\n",
              "      <th>Price</th>\n",
              "      <th>Content Rating</th>\n",
              "      <th>Genres</th>\n",
              "      <th>Last Updated</th>\n",
              "      <th>Current Ver</th>\n",
              "      <th>Android Ver</th>\n",
              "    </tr>\n",
              "  </thead>\n",
              "  <tbody>\n",
              "  </tbody>\n",
              "</table>\n",
              "</div>"
            ],
            "text/plain": [
              "Empty DataFrame\n",
              "Columns: [App, Category, Rating, Reviews, Size, Installs, Type, Price, Content Rating, Genres, Last Updated, Current Ver, Android Ver]\n",
              "Index: []"
            ]
          },
          "metadata": {
            "tags": []
          },
          "execution_count": 11
        }
      ]
    },
    {
      "cell_type": "markdown",
      "metadata": {
        "id": "X1hciGtasdhM",
        "colab_type": "text"
      },
      "source": [
        "### this column is clean enough."
      ]
    },
    {
      "cell_type": "markdown",
      "metadata": {
        "id": "aNQcDN9hsp67",
        "colab_type": "text"
      },
      "source": [
        "## 2.4 Check column \"Size\""
      ]
    },
    {
      "cell_type": "code",
      "metadata": {
        "id": "g2EeoWBQy18M",
        "colab_type": "code",
        "colab": {}
      },
      "source": [
        "df[\"Size\"].value_counts()\n",
        "\n",
        "# There are distortion in the data, some have K as the size, others have M"
      ],
      "execution_count": 0,
      "outputs": []
    },
    {
      "cell_type": "code",
      "metadata": {
        "id": "5FOGtO_BzV9q",
        "colab_type": "code",
        "colab": {}
      },
      "source": [
        "# convert Size to MB, replace \"varies with devices\" by mean of the column.\n",
        "def convert_size_to_num_in_mb(x):\n",
        "  if \"k\" in x:\n",
        "    x = round(float(x.replace(\"k\", \"\"))/1000, 0)\n",
        "  elif \"M\" in x:\n",
        "    x = round(float(x.replace(\"M\", \"\")), 0)\n",
        "  elif x == \"Varies with device\":\n",
        "    x = None\n",
        "  return x"
      ],
      "execution_count": 0,
      "outputs": []
    },
    {
      "cell_type": "code",
      "metadata": {
        "id": "L1H08h-jz6Kh",
        "colab_type": "code",
        "colab": {}
      },
      "source": [
        "df[\"Size\"]=df[\"Size\"].apply(convert_size_to_num_in_mb)"
      ],
      "execution_count": 0,
      "outputs": []
    },
    {
      "cell_type": "code",
      "metadata": {
        "id": "2Hrfd7Pl0eH-",
        "colab_type": "code",
        "colab": {}
      },
      "source": [
        "df[\"Size\"].unique()\n"
      ],
      "execution_count": 0,
      "outputs": []
    },
    {
      "cell_type": "code",
      "metadata": {
        "id": "QF7zdpk81DYm",
        "colab_type": "code",
        "colab": {}
      },
      "source": [
        "# Change NaN into mean of the colummn\n",
        "df[\"Size\"].fillna(df[\"Size\"].mean(), inplace=True)\n",
        "df[\"Size\"]=round(df[\"Size\"],0)\n",
        "df[\"Size\"].unique()\n",
        "\n",
        "\n"
      ],
      "execution_count": 0,
      "outputs": []
    },
    {
      "cell_type": "code",
      "metadata": {
        "id": "-S4U0cbnHh-Y",
        "colab_type": "code",
        "colab": {
          "base_uri": "https://localhost:8080/",
          "height": 477
        },
        "outputId": "bf453f32-afda-4ab5-b185-c820e649fe46"
      },
      "source": [
        "df.hist(column='Size', figsize=(22,7))\n",
        "plt.xlabel('Size (MB)')\n",
        "plt.ylabel('Frequency')"
      ],
      "execution_count": 16,
      "outputs": [
        {
          "output_type": "execute_result",
          "data": {
            "text/plain": [
              "Text(0, 0.5, 'Frequency')"
            ]
          },
          "metadata": {
            "tags": []
          },
          "execution_count": 16
        },
        {
          "output_type": "display_data",
          "data": {
            "image/png": "[encoded data removed]",
            "text/plain": [
              "<Figure size 1584x504 with 1 Axes>"
            ]
          },
          "metadata": {
            "tags": []
          }
        }
      ]
    },
    {
      "cell_type": "markdown",
      "metadata": {
        "id": "bsYYekHM2QAE",
        "colab_type": "text"
      },
      "source": [
        "## 2.4 Check column \"Installs\""
      ]
    },
    {
      "cell_type": "code",
      "metadata": {
        "id": "oVee1So72XDn",
        "colab_type": "code",
        "colab": {}
      },
      "source": [
        "df[\"Installs\"].value_counts()"
      ],
      "execution_count": 0,
      "outputs": []
    },
    {
      "cell_type": "code",
      "metadata": {
        "id": "TK7xHg-X2im6",
        "colab_type": "code",
        "colab": {}
      },
      "source": [
        "# Remove \"+\" and \",\" in Installs column. Then convert this column into integer\n",
        "\n",
        "def remove_plus_and_comma(x):\n",
        "    x = str(x).replace(\"+\", \"\").replace(\",\", \"\")\n",
        "    return int(x)\n",
        "df[\"Installs\"] = df[\"Installs\"].apply(remove_plus_and_comma)\n",
        "df[\"Installs\"].value_counts()"
      ],
      "execution_count": 0,
      "outputs": []
    },
    {
      "cell_type": "markdown",
      "metadata": {
        "id": "AUjzCo173L3G",
        "colab_type": "text"
      },
      "source": [
        "## 2.5 Check column \"Type\""
      ]
    },
    {
      "cell_type": "code",
      "metadata": {
        "id": "1Uvnv-543O5e",
        "colab_type": "code",
        "colab": {}
      },
      "source": [
        "df[\"Type\"].value_counts()"
      ],
      "execution_count": 0,
      "outputs": []
    },
    {
      "cell_type": "markdown",
      "metadata": {
        "id": "OQAyy7fH3VQC",
        "colab_type": "text"
      },
      "source": [
        "## 2.6 Check column \"Price\""
      ]
    },
    {
      "cell_type": "code",
      "metadata": {
        "id": "J1bNSxfx3kyB",
        "colab_type": "code",
        "colab": {
          "base_uri": "https://localhost:8080/",
          "height": 279
        },
        "outputId": "52ff6da1-c9d6-4262-a9d1-e5b53c0f76eb"
      },
      "source": [
        "df[\"Price\"].unique()"
      ],
      "execution_count": 101,
      "outputs": [
        {
          "output_type": "execute_result",
          "data": {
            "text/plain": [
              "array(['0', '$4.99', '$3.99', '$6.99', '$1.49', '$2.99', '$7.99', '$5.99',\n",
              "       '$3.49', '$1.99', '$9.99', '$7.49', '$0.99', '$9.00', '$5.49',\n",
              "       '$10.00', '$24.99', '$11.99', '$79.99', '$16.99', '$14.99',\n",
              "       '$1.00', '$29.99', '$12.99', '$2.49', '$10.99', '$1.50', '$19.99',\n",
              "       '$15.99', '$33.99', '$74.99', '$39.99', '$3.95', '$4.49', '$1.70',\n",
              "       '$8.99', '$2.00', '$3.88', '$25.99', '$399.99', '$17.99',\n",
              "       '$400.00', '$3.02', '$1.76', '$4.84', '$4.77', '$1.61', '$2.50',\n",
              "       '$1.59', '$6.49', '$1.29', '$5.00', '$13.99', '$299.99', '$379.99',\n",
              "       '$37.99', '$18.99', '$389.99', '$19.90', '$8.49', '$1.75',\n",
              "       '$14.00', '$4.85', '$46.99', '$109.99', '$154.99', '$3.08',\n",
              "       '$2.59', '$4.80', '$1.96', '$19.40', '$3.90', '$4.59', '$15.46',\n",
              "       '$3.04', '$4.29', '$2.60', '$3.28', '$4.60', '$28.99', '$2.95',\n",
              "       '$2.90', '$1.97', '$200.00', '$89.99', '$2.56', '$30.99', '$3.61',\n",
              "       '$394.99', '$1.26', '$1.20', '$1.04'], dtype=object)"
            ]
          },
          "metadata": {
            "tags": []
          },
          "execution_count": 101
        }
      ]
    },
    {
      "cell_type": "code",
      "metadata": {
        "id": "QgrAHr1E5M6D",
        "colab_type": "code",
        "colab": {
          "base_uri": "https://localhost:8080/",
          "height": 241
        },
        "outputId": "751802c2-b355-4a80-d69f-9eb0665e8e12"
      },
      "source": [
        "def remove_dollar(x):\n",
        "  x = x.replace('$', '')\n",
        "  return float(x)\n",
        "df['Price']=df['Price'].apply(remove_dollar)\n",
        "df['Price'].unique()"
      ],
      "execution_count": 18,
      "outputs": [
        {
          "output_type": "execute_result",
          "data": {
            "text/plain": [
              "array([  0.  ,   4.99,   3.99,   6.99,   1.49,   2.99,   7.99,   5.99,\n",
              "         3.49,   1.99,   9.99,   7.49,   0.99,   9.  ,   5.49,  10.  ,\n",
              "        24.99,  11.99,  79.99,  16.99,  14.99,   1.  ,  29.99,  12.99,\n",
              "         2.49,  10.99,   1.5 ,  19.99,  15.99,  33.99,  74.99,  39.99,\n",
              "         3.95,   4.49,   1.7 ,   8.99,   2.  ,   3.88,  25.99, 399.99,\n",
              "        17.99, 400.  ,   3.02,   1.76,   4.84,   4.77,   1.61,   2.5 ,\n",
              "         1.59,   6.49,   1.29,   5.  ,  13.99, 299.99, 379.99,  37.99,\n",
              "        18.99, 389.99,  19.9 ,   8.49,   1.75,  14.  ,   4.85,  46.99,\n",
              "       109.99, 154.99,   3.08,   2.59,   4.8 ,   1.96,  19.4 ,   3.9 ,\n",
              "         4.59,  15.46,   3.04,   4.29,   2.6 ,   3.28,   4.6 ,  28.99,\n",
              "         2.95,   2.9 ,   1.97, 200.  ,  89.99,   2.56,  30.99,   3.61,\n",
              "       394.99,   1.26,   1.2 ,   1.04])"
            ]
          },
          "metadata": {
            "tags": []
          },
          "execution_count": 18
        }
      ]
    },
    {
      "cell_type": "code",
      "metadata": {
        "id": "Lbzv6ZNsJ0Qu",
        "colab_type": "code",
        "colab": {
          "base_uri": "https://localhost:8080/",
          "height": 465
        },
        "outputId": "cb4ad0cf-32c3-48b0-acd3-6f57c46a96d1"
      },
      "source": [
        "df.Price=pd.to_numeric(df.Price)\n",
        "df.Price.hist(figsize=(22,7));\n",
        "plt.xlabel('Price')\n",
        "plt.ylabel('Frequency')"
      ],
      "execution_count": 19,
      "outputs": [
        {
          "output_type": "execute_result",
          "data": {
            "text/plain": [
              "Text(0, 0.5, 'Frequency')"
            ]
          },
          "metadata": {
            "tags": []
          },
          "execution_count": 19
        },
        {
          "output_type": "display_data",
          "data": {
            "image/png": "[encoded data removed]",
            "text/plain": [
              "<Figure size 1584x504 with 1 Axes>"
            ]
          },
          "metadata": {
            "tags": []
          }
        }
      ]
    },
    {
      "cell_type": "code",
      "metadata": {
        "id": "2-2wf0uVJ93m",
        "colab_type": "code",
        "colab": {
          "base_uri": "https://localhost:8080/",
          "height": 552
        },
        "outputId": "8140f7c0-fcbb-4777-f8c5-5fa7794e3eeb"
      },
      "source": [
        "temp=df.Price.apply(lambda x: True if x>350 else False)\n",
        "df[temp]"
      ],
      "execution_count": 21,
      "outputs": [
        {
          "output_type": "execute_result",
          "data": {
            "text/html": [
              "<div>\n",
              "<style scoped>\n",
              "    .dataframe tbody tr th:only-of-type {\n",
              "        vertical-align: middle;\n",
              "    }\n",
              "\n",
              "    .dataframe tbody tr th {\n",
              "        vertical-align: top;\n",
              "    }\n",
              "\n",
              "    .dataframe thead th {\n",
              "        text-align: right;\n",
              "    }\n",
              "</style>\n",
              "<table border=\"1\" class=\"dataframe\">\n",
              "  <thead>\n",
              "    <tr style=\"text-align: right;\">\n",
              "      <th></th>\n",
              "      <th>App</th>\n",
              "      <th>Category</th>\n",
              "      <th>Rating</th>\n",
              "      <th>Reviews</th>\n",
              "      <th>Size</th>\n",
              "      <th>Installs</th>\n",
              "      <th>Type</th>\n",
              "      <th>Price</th>\n",
              "      <th>Content Rating</th>\n",
              "      <th>Genres</th>\n",
              "      <th>Last Updated</th>\n",
              "      <th>Current Ver</th>\n",
              "      <th>Android Ver</th>\n",
              "    </tr>\n",
              "  </thead>\n",
              "  <tbody>\n",
              "    <tr>\n",
              "      <th>4197</th>\n",
              "      <td>most expensive app (H)</td>\n",
              "      <td>FAMILY</td>\n",
              "      <td>4.3</td>\n",
              "      <td>6</td>\n",
              "      <td>2.0</td>\n",
              "      <td>100</td>\n",
              "      <td>Paid</td>\n",
              "      <td>399.99</td>\n",
              "      <td>Everyone</td>\n",
              "      <td>Entertainment</td>\n",
              "      <td>July 16, 2018</td>\n",
              "      <td>1.0</td>\n",
              "      <td>7.0 and up</td>\n",
              "    </tr>\n",
              "    <tr>\n",
              "      <th>4362</th>\n",
              "      <td>💎 I'm rich</td>\n",
              "      <td>LIFESTYLE</td>\n",
              "      <td>3.8</td>\n",
              "      <td>718</td>\n",
              "      <td>26.0</td>\n",
              "      <td>10000</td>\n",
              "      <td>Paid</td>\n",
              "      <td>399.99</td>\n",
              "      <td>Everyone</td>\n",
              "      <td>Lifestyle</td>\n",
              "      <td>March 11, 2018</td>\n",
              "      <td>1.0.0</td>\n",
              "      <td>4.4 and up</td>\n",
              "    </tr>\n",
              "    <tr>\n",
              "      <th>4367</th>\n",
              "      <td>I'm Rich - Trump Edition</td>\n",
              "      <td>LIFESTYLE</td>\n",
              "      <td>3.6</td>\n",
              "      <td>275</td>\n",
              "      <td>7.0</td>\n",
              "      <td>10000</td>\n",
              "      <td>Paid</td>\n",
              "      <td>400.00</td>\n",
              "      <td>Everyone</td>\n",
              "      <td>Lifestyle</td>\n",
              "      <td>May 3, 2018</td>\n",
              "      <td>1.0.1</td>\n",
              "      <td>4.1 and up</td>\n",
              "    </tr>\n",
              "    <tr>\n",
              "      <th>5351</th>\n",
              "      <td>I am rich</td>\n",
              "      <td>LIFESTYLE</td>\n",
              "      <td>3.8</td>\n",
              "      <td>3547</td>\n",
              "      <td>2.0</td>\n",
              "      <td>100000</td>\n",
              "      <td>Paid</td>\n",
              "      <td>399.99</td>\n",
              "      <td>Everyone</td>\n",
              "      <td>Lifestyle</td>\n",
              "      <td>January 12, 2018</td>\n",
              "      <td>2.0</td>\n",
              "      <td>4.0.3 and up</td>\n",
              "    </tr>\n",
              "    <tr>\n",
              "      <th>5354</th>\n",
              "      <td>I am Rich Plus</td>\n",
              "      <td>FAMILY</td>\n",
              "      <td>4.0</td>\n",
              "      <td>856</td>\n",
              "      <td>9.0</td>\n",
              "      <td>10000</td>\n",
              "      <td>Paid</td>\n",
              "      <td>399.99</td>\n",
              "      <td>Everyone</td>\n",
              "      <td>Entertainment</td>\n",
              "      <td>May 19, 2018</td>\n",
              "      <td>3.0</td>\n",
              "      <td>4.4 and up</td>\n",
              "    </tr>\n",
              "    <tr>\n",
              "      <th>5356</th>\n",
              "      <td>I Am Rich Premium</td>\n",
              "      <td>FINANCE</td>\n",
              "      <td>4.1</td>\n",
              "      <td>1867</td>\n",
              "      <td>5.0</td>\n",
              "      <td>50000</td>\n",
              "      <td>Paid</td>\n",
              "      <td>399.99</td>\n",
              "      <td>Everyone</td>\n",
              "      <td>Finance</td>\n",
              "      <td>November 12, 2017</td>\n",
              "      <td>1.6</td>\n",
              "      <td>4.0 and up</td>\n",
              "    </tr>\n",
              "    <tr>\n",
              "      <th>5357</th>\n",
              "      <td>I am extremely Rich</td>\n",
              "      <td>LIFESTYLE</td>\n",
              "      <td>2.9</td>\n",
              "      <td>41</td>\n",
              "      <td>3.0</td>\n",
              "      <td>1000</td>\n",
              "      <td>Paid</td>\n",
              "      <td>379.99</td>\n",
              "      <td>Everyone</td>\n",
              "      <td>Lifestyle</td>\n",
              "      <td>July 1, 2018</td>\n",
              "      <td>1.0</td>\n",
              "      <td>4.0 and up</td>\n",
              "    </tr>\n",
              "    <tr>\n",
              "      <th>5358</th>\n",
              "      <td>I am Rich!</td>\n",
              "      <td>FINANCE</td>\n",
              "      <td>3.8</td>\n",
              "      <td>93</td>\n",
              "      <td>22.0</td>\n",
              "      <td>1000</td>\n",
              "      <td>Paid</td>\n",
              "      <td>399.99</td>\n",
              "      <td>Everyone</td>\n",
              "      <td>Finance</td>\n",
              "      <td>December 11, 2017</td>\n",
              "      <td>1.0</td>\n",
              "      <td>4.1 and up</td>\n",
              "    </tr>\n",
              "    <tr>\n",
              "      <th>5359</th>\n",
              "      <td>I am rich(premium)</td>\n",
              "      <td>FINANCE</td>\n",
              "      <td>3.5</td>\n",
              "      <td>472</td>\n",
              "      <td>1.0</td>\n",
              "      <td>5000</td>\n",
              "      <td>Paid</td>\n",
              "      <td>399.99</td>\n",
              "      <td>Everyone</td>\n",
              "      <td>Finance</td>\n",
              "      <td>May 1, 2017</td>\n",
              "      <td>3.4</td>\n",
              "      <td>4.4 and up</td>\n",
              "    </tr>\n",
              "    <tr>\n",
              "      <th>5362</th>\n",
              "      <td>I Am Rich Pro</td>\n",
              "      <td>FAMILY</td>\n",
              "      <td>4.4</td>\n",
              "      <td>201</td>\n",
              "      <td>3.0</td>\n",
              "      <td>5000</td>\n",
              "      <td>Paid</td>\n",
              "      <td>399.99</td>\n",
              "      <td>Everyone</td>\n",
              "      <td>Entertainment</td>\n",
              "      <td>May 30, 2017</td>\n",
              "      <td>1.54</td>\n",
              "      <td>1.6 and up</td>\n",
              "    </tr>\n",
              "    <tr>\n",
              "      <th>5364</th>\n",
              "      <td>I am rich (Most expensive app)</td>\n",
              "      <td>FINANCE</td>\n",
              "      <td>4.1</td>\n",
              "      <td>129</td>\n",
              "      <td>3.0</td>\n",
              "      <td>1000</td>\n",
              "      <td>Paid</td>\n",
              "      <td>399.99</td>\n",
              "      <td>Teen</td>\n",
              "      <td>Finance</td>\n",
              "      <td>December 6, 2017</td>\n",
              "      <td>2</td>\n",
              "      <td>4.0.3 and up</td>\n",
              "    </tr>\n",
              "    <tr>\n",
              "      <th>5366</th>\n",
              "      <td>I Am Rich</td>\n",
              "      <td>FAMILY</td>\n",
              "      <td>3.6</td>\n",
              "      <td>217</td>\n",
              "      <td>5.0</td>\n",
              "      <td>10000</td>\n",
              "      <td>Paid</td>\n",
              "      <td>389.99</td>\n",
              "      <td>Everyone</td>\n",
              "      <td>Entertainment</td>\n",
              "      <td>June 22, 2018</td>\n",
              "      <td>1.5</td>\n",
              "      <td>4.2 and up</td>\n",
              "    </tr>\n",
              "    <tr>\n",
              "      <th>5369</th>\n",
              "      <td>I am Rich</td>\n",
              "      <td>FINANCE</td>\n",
              "      <td>4.3</td>\n",
              "      <td>180</td>\n",
              "      <td>4.0</td>\n",
              "      <td>5000</td>\n",
              "      <td>Paid</td>\n",
              "      <td>399.99</td>\n",
              "      <td>Everyone</td>\n",
              "      <td>Finance</td>\n",
              "      <td>March 22, 2018</td>\n",
              "      <td>1.0</td>\n",
              "      <td>4.2 and up</td>\n",
              "    </tr>\n",
              "    <tr>\n",
              "      <th>5373</th>\n",
              "      <td>I AM RICH PRO PLUS</td>\n",
              "      <td>FINANCE</td>\n",
              "      <td>4.0</td>\n",
              "      <td>36</td>\n",
              "      <td>41.0</td>\n",
              "      <td>1000</td>\n",
              "      <td>Paid</td>\n",
              "      <td>399.99</td>\n",
              "      <td>Everyone</td>\n",
              "      <td>Finance</td>\n",
              "      <td>June 25, 2018</td>\n",
              "      <td>1.0.2</td>\n",
              "      <td>4.1 and up</td>\n",
              "    </tr>\n",
              "    <tr>\n",
              "      <th>9917</th>\n",
              "      <td>Eu Sou Rico</td>\n",
              "      <td>FINANCE</td>\n",
              "      <td>NaN</td>\n",
              "      <td>0</td>\n",
              "      <td>1.0</td>\n",
              "      <td>0</td>\n",
              "      <td>Paid</td>\n",
              "      <td>394.99</td>\n",
              "      <td>Everyone</td>\n",
              "      <td>Finance</td>\n",
              "      <td>July 11, 2018</td>\n",
              "      <td>1.0</td>\n",
              "      <td>4.0.3 and up</td>\n",
              "    </tr>\n",
              "    <tr>\n",
              "      <th>9934</th>\n",
              "      <td>I'm Rich/Eu sou Rico/أنا غني/我很有錢</td>\n",
              "      <td>LIFESTYLE</td>\n",
              "      <td>NaN</td>\n",
              "      <td>0</td>\n",
              "      <td>40.0</td>\n",
              "      <td>0</td>\n",
              "      <td>Paid</td>\n",
              "      <td>399.99</td>\n",
              "      <td>Everyone</td>\n",
              "      <td>Lifestyle</td>\n",
              "      <td>December 1, 2017</td>\n",
              "      <td>MONEY</td>\n",
              "      <td>4.1 and up</td>\n",
              "    </tr>\n",
              "  </tbody>\n",
              "</table>\n",
              "</div>"
            ],
            "text/plain": [
              "                                    App   Category  ...  Current Ver   Android Ver\n",
              "4197             most expensive app (H)     FAMILY  ...          1.0    7.0 and up\n",
              "4362                         💎 I'm rich  LIFESTYLE  ...        1.0.0    4.4 and up\n",
              "4367           I'm Rich - Trump Edition  LIFESTYLE  ...        1.0.1    4.1 and up\n",
              "5351                          I am rich  LIFESTYLE  ...          2.0  4.0.3 and up\n",
              "5354                     I am Rich Plus     FAMILY  ...          3.0    4.4 and up\n",
              "5356                  I Am Rich Premium    FINANCE  ...          1.6    4.0 and up\n",
              "5357                I am extremely Rich  LIFESTYLE  ...          1.0    4.0 and up\n",
              "5358                         I am Rich!    FINANCE  ...          1.0    4.1 and up\n",
              "5359                 I am rich(premium)    FINANCE  ...          3.4    4.4 and up\n",
              "5362                      I Am Rich Pro     FAMILY  ...         1.54    1.6 and up\n",
              "5364     I am rich (Most expensive app)    FINANCE  ...            2  4.0.3 and up\n",
              "5366                          I Am Rich     FAMILY  ...          1.5    4.2 and up\n",
              "5369                          I am Rich    FINANCE  ...          1.0    4.2 and up\n",
              "5373                 I AM RICH PRO PLUS    FINANCE  ...        1.0.2    4.1 and up\n",
              "9917                        Eu Sou Rico    FINANCE  ...          1.0  4.0.3 and up\n",
              "9934  I'm Rich/Eu sou Rico/أنا غني/我很有錢  LIFESTYLE  ...        MONEY    4.1 and up\n",
              "\n",
              "[16 rows x 13 columns]"
            ]
          },
          "metadata": {
            "tags": []
          },
          "execution_count": 21
        }
      ]
    },
    {
      "cell_type": "markdown",
      "metadata": {
        "id": "1TklFSAdGctX",
        "colab_type": "text"
      },
      "source": [
        "## 2.7 Check column \"Content Rating"
      ]
    },
    {
      "cell_type": "code",
      "metadata": {
        "id": "Qe6U6T7tGegL",
        "colab_type": "code",
        "colab": {
          "base_uri": "https://localhost:8080/",
          "height": 148
        },
        "outputId": "74a062ad-ddc8-4164-f01e-f6fa3dd04c74"
      },
      "source": [
        "df['Content Rating'].value_counts()"
      ],
      "execution_count": 105,
      "outputs": [
        {
          "output_type": "execute_result",
          "data": {
            "text/plain": [
              "Everyone           8714\n",
              "Teen               1208\n",
              "Mature 17+          499\n",
              "Everyone 10+        414\n",
              "Adults only 18+       3\n",
              "Unrated               2\n",
              "Name: Content Rating, dtype: int64"
            ]
          },
          "metadata": {
            "tags": []
          },
          "execution_count": 105
        }
      ]
    },
    {
      "cell_type": "code",
      "metadata": {
        "id": "yN65BQeeQghi",
        "colab_type": "code",
        "colab": {
          "base_uri": "https://localhost:8080/",
          "height": 412
        },
        "outputId": "343aa566-9226-4f0c-f0ac-20374bb1c562"
      },
      "source": [
        "df['Content Rating'].value_counts().plot(kind='bar', figsize=(8,5))"
      ],
      "execution_count": 22,
      "outputs": [
        {
          "output_type": "execute_result",
          "data": {
            "text/plain": [
              "<matplotlib.axes._subplots.AxesSubplot at 0x7f927ebdd748>"
            ]
          },
          "metadata": {
            "tags": []
          },
          "execution_count": 22
        },
        {
          "output_type": "display_data",
          "data": {
            "image/png": "[encoded data removed]",
            "text/plain": [
              "<Figure size 576x360 with 1 Axes>"
            ]
          },
          "metadata": {
            "tags": []
          }
        }
      ]
    },
    {
      "cell_type": "markdown",
      "metadata": {
        "id": "gw6vY6z_Gxp3",
        "colab_type": "text"
      },
      "source": [
        "## 2.8 Check column \"Genres\""
      ]
    },
    {
      "cell_type": "code",
      "metadata": {
        "id": "35HP0rceG6oK",
        "colab_type": "code",
        "colab": {
          "base_uri": "https://localhost:8080/",
          "height": 1000
        },
        "outputId": "efffeb3b-54e8-4b72-8beb-428530cd1210"
      },
      "source": [
        "df['Genres'].value_counts()"
      ],
      "execution_count": 106,
      "outputs": [
        {
          "output_type": "execute_result",
          "data": {
            "text/plain": [
              "Tools                                  842\n",
              "Entertainment                          623\n",
              "Education                              549\n",
              "Medical                                463\n",
              "Business                               460\n",
              "Productivity                           424\n",
              "Sports                                 398\n",
              "Personalization                        392\n",
              "Communication                          387\n",
              "Lifestyle                              381\n",
              "Finance                                366\n",
              "Action                                 365\n",
              "Health & Fitness                       341\n",
              "Photography                            335\n",
              "Social                                 295\n",
              "News & Magazines                       283\n",
              "Shopping                               260\n",
              "Travel & Local                         257\n",
              "Dating                                 234\n",
              "Books & Reference                      231\n",
              "Arcade                                 220\n",
              "Simulation                             200\n",
              "Casual                                 193\n",
              "Video Players & Editors                173\n",
              "Puzzle                                 140\n",
              "Maps & Navigation                      137\n",
              "Food & Drink                           127\n",
              "Role Playing                           109\n",
              "Strategy                               107\n",
              "Racing                                  98\n",
              "                                      ... \n",
              "Casual;Music & Video                     2\n",
              "Adventure;Education                      2\n",
              "Video Players & Editors;Creativity       2\n",
              "Art & Design;Pretend Play                2\n",
              "Entertainment;Pretend Play               2\n",
              "Puzzle;Creativity                        2\n",
              "Books & Reference;Education              2\n",
              "Entertainment;Education                  1\n",
              "Communication;Creativity                 1\n",
              "Adventure;Brain Games                    1\n",
              "Lifestyle;Pretend Play                   1\n",
              "Comics;Creativity                        1\n",
              "Health & Fitness;Action & Adventure      1\n",
              "Music & Audio;Music & Video              1\n",
              "Parenting;Brain Games                    1\n",
              "Arcade;Pretend Play                      1\n",
              "Role Playing;Brain Games                 1\n",
              "Puzzle;Education                         1\n",
              "Books & Reference;Creativity             1\n",
              "Strategy;Creativity                      1\n",
              "Tools;Education                          1\n",
              "Travel & Local;Action & Adventure        1\n",
              "Racing;Pretend Play                      1\n",
              "Board;Pretend Play                       1\n",
              "Lifestyle;Education                      1\n",
              "Card;Brain Games                         1\n",
              "Health & Fitness;Education               1\n",
              "Strategy;Education                       1\n",
              "Trivia;Education                         1\n",
              "Role Playing;Education                   1\n",
              "Name: Genres, Length: 119, dtype: int64"
            ]
          },
          "metadata": {
            "tags": []
          },
          "execution_count": 106
        }
      ]
    },
    {
      "cell_type": "code",
      "metadata": {
        "id": "7-VDbOIbRz98",
        "colab_type": "code",
        "colab": {}
      },
      "source": [
        "# Split \"Genres\" column into two column. The first column is for the first genres, we named it as primary genres. The other one is named sub genres.\n",
        "primary_gen = df['Genres'].apply(lambda x: x.split(';')[0])\n",
        "df['Primary Genres'] = primary_gen\n",
        "df['Primary Genres']"
      ],
      "execution_count": 0,
      "outputs": []
    },
    {
      "cell_type": "code",
      "metadata": {
        "id": "p-sKHQM1cN3w",
        "colab_type": "code",
        "colab": {
          "base_uri": "https://localhost:8080/",
          "height": 260
        },
        "outputId": "c144678c-7c11-42f1-b335-8da027f7080d"
      },
      "source": [
        "df['Secondary Genres']= df.Genres.apply(lambda x: x.split(';')[-1])\n",
        "df['Secondary Genres'].unique()\n",
        "\n"
      ],
      "execution_count": 27,
      "outputs": [
        {
          "output_type": "execute_result",
          "data": {
            "text/plain": [
              "array(['Art & Design', 'Pretend Play', 'Creativity', 'Action & Adventure',\n",
              "       'Auto & Vehicles', 'Beauty', 'Books & Reference', 'Business',\n",
              "       'Comics', 'Communication', 'Dating', 'Education', 'Music & Video',\n",
              "       'Brain Games', 'Entertainment', 'Events', 'Finance',\n",
              "       'Food & Drink', 'Health & Fitness', 'House & Home',\n",
              "       'Libraries & Demo', 'Lifestyle', 'Arcade', 'Casual', 'Card',\n",
              "       'Action', 'Strategy', 'Puzzle', 'Sports', 'Music', 'Word',\n",
              "       'Racing', 'Simulation', 'Adventure', 'Board', 'Trivia',\n",
              "       'Role Playing', 'Medical', 'Social', 'Shopping', 'Photography',\n",
              "       'Travel & Local', 'Tools', 'Personalization', 'Productivity',\n",
              "       'Parenting', 'Weather', 'Video Players & Editors',\n",
              "       'News & Magazines', 'Maps & Navigation', 'Educational', 'Casino'],\n",
              "      dtype=object)"
            ]
          },
          "metadata": {
            "tags": []
          },
          "execution_count": 27
        }
      ]
    },
    {
      "cell_type": "code",
      "metadata": {
        "id": "IkpzKTpdcwJd",
        "colab_type": "code",
        "colab": {
          "base_uri": "https://localhost:8080/",
          "height": 1000
        },
        "outputId": "edcfe681-2aae-4917-a3f3-c648c7c1d982"
      },
      "source": [
        "grouped_gen = df.groupby(['Primary Genres','Secondary Genres'])\n",
        "grouped_gen.size()\n",
        "\n"
      ],
      "execution_count": 32,
      "outputs": [
        {
          "output_type": "execute_result",
          "data": {
            "text/plain": [
              "Primary Genres           Secondary Genres       \n",
              "Action                   Action                     365\n",
              "                         Action & Adventure          17\n",
              "Adventure                Action & Adventure          13\n",
              "                         Adventure                   75\n",
              "                         Brain Games                  1\n",
              "                         Education                    2\n",
              "Arcade                   Action & Adventure          16\n",
              "                         Arcade                     220\n",
              "                         Pretend Play                 1\n",
              "Art & Design             Action & Adventure           2\n",
              "                         Art & Design                58\n",
              "                         Creativity                   7\n",
              "                         Pretend Play                 2\n",
              "Auto & Vehicles          Auto & Vehicles             85\n",
              "Beauty                   Beauty                      53\n",
              "Board                    Action & Adventure           3\n",
              "                         Board                       44\n",
              "                         Brain Games                 15\n",
              "                         Pretend Play                 1\n",
              "Books & Reference        Books & Reference          231\n",
              "                         Creativity                   1\n",
              "                         Education                    2\n",
              "Business                 Business                   460\n",
              "Card                     Action & Adventure           2\n",
              "                         Brain Games                  1\n",
              "                         Card                        48\n",
              "Casino                   Casino                      39\n",
              "Casual                   Action & Adventure          21\n",
              "                         Brain Games                 13\n",
              "                         Casual                     193\n",
              "                                                   ... \n",
              "Racing                   Pretend Play                 1\n",
              "                         Racing                      98\n",
              "Role Playing             Action & Adventure           7\n",
              "                         Brain Games                  1\n",
              "                         Education                    1\n",
              "                         Pretend Play                 5\n",
              "                         Role Playing               109\n",
              "Shopping                 Shopping                   260\n",
              "Simulation               Action & Adventure          11\n",
              "                         Education                    3\n",
              "                         Pretend Play                 4\n",
              "                         Simulation                 200\n",
              "Social                   Social                     295\n",
              "Sports                   Action & Adventure           4\n",
              "                         Sports                     398\n",
              "Strategy                 Action & Adventure           2\n",
              "                         Creativity                   1\n",
              "                         Education                    1\n",
              "                         Strategy                   107\n",
              "Tools                    Education                    1\n",
              "                         Tools                      842\n",
              "Travel & Local           Action & Adventure           1\n",
              "                         Travel & Local             257\n",
              "Trivia                   Education                    1\n",
              "                         Trivia                      38\n",
              "Video Players & Editors  Creativity                   2\n",
              "                         Music & Video                3\n",
              "                         Video Players & Editors    173\n",
              "Weather                  Weather                     82\n",
              "Word                     Word                        29\n",
              "Length: 118, dtype: int64"
            ]
          },
          "metadata": {
            "tags": []
          },
          "execution_count": 32
        }
      ]
    },
    {
      "cell_type": "code",
      "metadata": {
        "id": "j_5WgwNmdcIh",
        "colab_type": "code",
        "colab": {}
      },
      "source": [
        "two_genres_table = pd.crosstab(index=df[\"Primary Genres\"],columns=df[\"Secondary Genres\"])\n",
        "two_genres_table.head()"
      ],
      "execution_count": 0,
      "outputs": []
    },
    {
      "cell_type": "code",
      "metadata": {
        "id": "1YTSOg79dqb0",
        "colab_type": "code",
        "colab": {
          "base_uri": "https://localhost:8080/",
          "height": 1000
        },
        "outputId": "d31c17e1-6cc2-46d3-c3d6-4b4398f8697e"
      },
      "source": [
        "two_genres_table.plot(kind=\"barh\", figsize=(12,20),stacked=True);\n",
        "plt.legend(bbox_to_anchor=(1.0,1.0))"
      ],
      "execution_count": 36,
      "outputs": [
        {
          "output_type": "execute_result",
          "data": {
            "text/plain": [
              "<matplotlib.legend.Legend at 0x7f927d55ce80>"
            ]
          },
          "metadata": {
            "tags": []
          },
          "execution_count": 36
        },
        {
          "output_type": "display_data",
          "data": {
            "image/png": "[encoded data removed]",
            "text/plain": [
              "<Figure size 864x1440 with 1 Axes>"
            ]
          },
          "metadata": {
            "tags": []
          }
        }
      ]
    },
    {
      "cell_type": "markdown",
      "metadata": {
        "id": "Yn5CO4mqeJuG",
        "colab_type": "text"
      },
      "source": [
        "## 2.10 Clean column \"Last Update\""
      ]
    },
    {
      "cell_type": "code",
      "metadata": {
        "id": "43UasTVMeVFG",
        "colab_type": "code",
        "colab": {
          "base_uri": "https://localhost:8080/",
          "height": 73
        },
        "outputId": "76dd9fa2-0242-455c-b723-97cf881c2030"
      },
      "source": [
        "df['Last Updated'].value_counts()\n",
        "df['Last Updated'].unique()"
      ],
      "execution_count": 40,
      "outputs": [
        {
          "output_type": "execute_result",
          "data": {
            "text/plain": [
              "array(['January 7, 2018', 'January 15, 2018', 'August 1, 2018', ...,\n",
              "       'January 20, 2014', 'February 16, 2014', 'March 23, 2014'],\n",
              "      dtype=object)"
            ]
          },
          "metadata": {
            "tags": []
          },
          "execution_count": 40
        }
      ]
    },
    {
      "cell_type": "code",
      "metadata": {
        "id": "sVAuIjgZeSbw",
        "colab_type": "code",
        "colab": {
          "base_uri": "https://localhost:8080/",
          "height": 129
        },
        "outputId": "a49dee08-006a-4995-f75e-f26cc5a6611a"
      },
      "source": [
        "from datetime import datetime,date\n",
        "temp=pd.to_datetime(df['Last Updated'])\n",
        "temp.head()\n",
        "\n",
        "df['Time from last update'] = temp.apply(lambda x:date.today()-datetime.date(x))\n",
        "df['Time from last update'].head()"
      ],
      "execution_count": 49,
      "outputs": [
        {
          "output_type": "execute_result",
          "data": {
            "text/plain": [
              "0   572 days\n",
              "1   564 days\n",
              "2   366 days\n",
              "3   420 days\n",
              "4   408 days\n",
              "Name: Time from last update, dtype: timedelta64[ns]"
            ]
          },
          "metadata": {
            "tags": []
          },
          "execution_count": 49
        }
      ]
    },
    {
      "cell_type": "code",
      "metadata": {
        "id": "QF4SkE7YjU5E",
        "colab_type": "code",
        "colab": {}
      },
      "source": [
        "plt.figure(figsize=(15,6))\n",
        "ax = sns.pairplot(df, hue=\"Type\")\n",
        "plt.show()"
      ],
      "execution_count": 0,
      "outputs": []
    },
    {
      "cell_type": "markdown",
      "metadata": {
        "id": "zIvEsxrzfHZD",
        "colab_type": "text"
      },
      "source": [
        "# 2.11 Current Ver"
      ]
    },
    {
      "cell_type": "code",
      "metadata": {
        "id": "9kEceyEKfNZ1",
        "colab_type": "code",
        "colab": {
          "base_uri": "https://localhost:8080/",
          "height": 54
        },
        "outputId": "2c0f9ac7-4e18-41da-b27e-7df66f504e98"
      },
      "source": [
        "df['Current Ver'].unique()"
      ],
      "execution_count": 46,
      "outputs": [
        {
          "output_type": "execute_result",
          "data": {
            "text/plain": [
              "array(['1.0.0', '2.0.0', '1.2.4', ..., '1.0.612928', '0.3.4', '2.0.148.0'],\n",
              "      dtype=object)"
            ]
          },
          "metadata": {
            "tags": []
          },
          "execution_count": 46
        }
      ]
    },
    {
      "cell_type": "code",
      "metadata": {
        "id": "M1URIXXPgerT",
        "colab_type": "code",
        "colab": {
          "base_uri": "https://localhost:8080/",
          "height": 36
        },
        "outputId": "a4712670-66d5-4c0e-d111-78b1bd53387d"
      },
      "source": [
        "df['Current Ver'].isna().sum()"
      ],
      "execution_count": 47,
      "outputs": [
        {
          "output_type": "execute_result",
          "data": {
            "text/plain": [
              "8"
            ]
          },
          "metadata": {
            "tags": []
          },
          "execution_count": 47
        }
      ]
    },
    {
      "cell_type": "code",
      "metadata": {
        "id": "G_J--wKHgrKw",
        "colab_type": "code",
        "colab": {
          "base_uri": "https://localhost:8080/",
          "height": 1000
        },
        "outputId": "09aca077-d487-4632-c336-41e854fc1495"
      },
      "source": [
        "df"
      ],
      "execution_count": 48,
      "outputs": [
        {
          "output_type": "execute_result",
          "data": {
            "text/html": [
              "<div>\n",
              "<style scoped>\n",
              "    .dataframe tbody tr th:only-of-type {\n",
              "        vertical-align: middle;\n",
              "    }\n",
              "\n",
              "    .dataframe tbody tr th {\n",
              "        vertical-align: top;\n",
              "    }\n",
              "\n",
              "    .dataframe thead th {\n",
              "        text-align: right;\n",
              "    }\n",
              "</style>\n",
              "<table border=\"1\" class=\"dataframe\">\n",
              "  <thead>\n",
              "    <tr style=\"text-align: right;\">\n",
              "      <th></th>\n",
              "      <th>App</th>\n",
              "      <th>Category</th>\n",
              "      <th>Rating</th>\n",
              "      <th>Reviews</th>\n",
              "      <th>Size</th>\n",
              "      <th>Installs</th>\n",
              "      <th>Type</th>\n",
              "      <th>Price</th>\n",
              "      <th>Content Rating</th>\n",
              "      <th>Genres</th>\n",
              "      <th>Last Updated</th>\n",
              "      <th>Current Ver</th>\n",
              "      <th>Android Ver</th>\n",
              "      <th>Primary Genres</th>\n",
              "      <th>Secondary Genres</th>\n",
              "    </tr>\n",
              "  </thead>\n",
              "  <tbody>\n",
              "    <tr>\n",
              "      <th>0</th>\n",
              "      <td>Photo Editor &amp; Candy Camera &amp; Grid &amp; ScrapBook</td>\n",
              "      <td>ART_AND_DESIGN</td>\n",
              "      <td>4.1</td>\n",
              "      <td>159</td>\n",
              "      <td>19.0</td>\n",
              "      <td>10000</td>\n",
              "      <td>Free</td>\n",
              "      <td>0.0</td>\n",
              "      <td>Everyone</td>\n",
              "      <td>Art &amp; Design</td>\n",
              "      <td>January 7, 2018</td>\n",
              "      <td>1.0.0</td>\n",
              "      <td>4.0.3 and up</td>\n",
              "      <td>Art &amp; Design</td>\n",
              "      <td>Art &amp; Design</td>\n",
              "    </tr>\n",
              "    <tr>\n",
              "      <th>1</th>\n",
              "      <td>Coloring book moana</td>\n",
              "      <td>ART_AND_DESIGN</td>\n",
              "      <td>3.9</td>\n",
              "      <td>967</td>\n",
              "      <td>14.0</td>\n",
              "      <td>500000</td>\n",
              "      <td>Free</td>\n",
              "      <td>0.0</td>\n",
              "      <td>Everyone</td>\n",
              "      <td>Art &amp; Design;Pretend Play</td>\n",
              "      <td>January 15, 2018</td>\n",
              "      <td>2.0.0</td>\n",
              "      <td>4.0.3 and up</td>\n",
              "      <td>Art &amp; Design</td>\n",
              "      <td>Pretend Play</td>\n",
              "    </tr>\n",
              "    <tr>\n",
              "      <th>2</th>\n",
              "      <td>U Launcher Lite – FREE Live Cool Themes, Hide ...</td>\n",
              "      <td>ART_AND_DESIGN</td>\n",
              "      <td>4.7</td>\n",
              "      <td>87510</td>\n",
              "      <td>9.0</td>\n",
              "      <td>5000000</td>\n",
              "      <td>Free</td>\n",
              "      <td>0.0</td>\n",
              "      <td>Everyone</td>\n",
              "      <td>Art &amp; Design</td>\n",
              "      <td>August 1, 2018</td>\n",
              "      <td>1.2.4</td>\n",
              "      <td>4.0.3 and up</td>\n",
              "      <td>Art &amp; Design</td>\n",
              "      <td>Art &amp; Design</td>\n",
              "    </tr>\n",
              "    <tr>\n",
              "      <th>3</th>\n",
              "      <td>Sketch - Draw &amp; Paint</td>\n",
              "      <td>ART_AND_DESIGN</td>\n",
              "      <td>4.5</td>\n",
              "      <td>215644</td>\n",
              "      <td>25.0</td>\n",
              "      <td>50000000</td>\n",
              "      <td>Free</td>\n",
              "      <td>0.0</td>\n",
              "      <td>Teen</td>\n",
              "      <td>Art &amp; Design</td>\n",
              "      <td>June 8, 2018</td>\n",
              "      <td>Varies with device</td>\n",
              "      <td>4.2 and up</td>\n",
              "      <td>Art &amp; Design</td>\n",
              "      <td>Art &amp; Design</td>\n",
              "    </tr>\n",
              "    <tr>\n",
              "      <th>4</th>\n",
              "      <td>Pixel Draw - Number Art Coloring Book</td>\n",
              "      <td>ART_AND_DESIGN</td>\n",
              "      <td>4.3</td>\n",
              "      <td>967</td>\n",
              "      <td>3.0</td>\n",
              "      <td>100000</td>\n",
              "      <td>Free</td>\n",
              "      <td>0.0</td>\n",
              "      <td>Everyone</td>\n",
              "      <td>Art &amp; Design;Creativity</td>\n",
              "      <td>June 20, 2018</td>\n",
              "      <td>1.1</td>\n",
              "      <td>4.4 and up</td>\n",
              "      <td>Art &amp; Design</td>\n",
              "      <td>Creativity</td>\n",
              "    </tr>\n",
              "    <tr>\n",
              "      <th>5</th>\n",
              "      <td>Paper flowers instructions</td>\n",
              "      <td>ART_AND_DESIGN</td>\n",
              "      <td>4.4</td>\n",
              "      <td>167</td>\n",
              "      <td>6.0</td>\n",
              "      <td>50000</td>\n",
              "      <td>Free</td>\n",
              "      <td>0.0</td>\n",
              "      <td>Everyone</td>\n",
              "      <td>Art &amp; Design</td>\n",
              "      <td>March 26, 2017</td>\n",
              "      <td>1.0</td>\n",
              "      <td>2.3 and up</td>\n",
              "      <td>Art &amp; Design</td>\n",
              "      <td>Art &amp; Design</td>\n",
              "    </tr>\n",
              "    <tr>\n",
              "      <th>6</th>\n",
              "      <td>Smoke Effect Photo Maker - Smoke Editor</td>\n",
              "      <td>ART_AND_DESIGN</td>\n",
              "      <td>3.8</td>\n",
              "      <td>178</td>\n",
              "      <td>19.0</td>\n",
              "      <td>50000</td>\n",
              "      <td>Free</td>\n",
              "      <td>0.0</td>\n",
              "      <td>Everyone</td>\n",
              "      <td>Art &amp; Design</td>\n",
              "      <td>April 26, 2018</td>\n",
              "      <td>1.1</td>\n",
              "      <td>4.0.3 and up</td>\n",
              "      <td>Art &amp; Design</td>\n",
              "      <td>Art &amp; Design</td>\n",
              "    </tr>\n",
              "    <tr>\n",
              "      <th>7</th>\n",
              "      <td>Infinite Painter</td>\n",
              "      <td>ART_AND_DESIGN</td>\n",
              "      <td>4.1</td>\n",
              "      <td>36815</td>\n",
              "      <td>29.0</td>\n",
              "      <td>1000000</td>\n",
              "      <td>Free</td>\n",
              "      <td>0.0</td>\n",
              "      <td>Everyone</td>\n",
              "      <td>Art &amp; Design</td>\n",
              "      <td>June 14, 2018</td>\n",
              "      <td>6.1.61.1</td>\n",
              "      <td>4.2 and up</td>\n",
              "      <td>Art &amp; Design</td>\n",
              "      <td>Art &amp; Design</td>\n",
              "    </tr>\n",
              "    <tr>\n",
              "      <th>8</th>\n",
              "      <td>Garden Coloring Book</td>\n",
              "      <td>ART_AND_DESIGN</td>\n",
              "      <td>4.4</td>\n",
              "      <td>13791</td>\n",
              "      <td>33.0</td>\n",
              "      <td>1000000</td>\n",
              "      <td>Free</td>\n",
              "      <td>0.0</td>\n",
              "      <td>Everyone</td>\n",
              "      <td>Art &amp; Design</td>\n",
              "      <td>September 20, 2017</td>\n",
              "      <td>2.9.2</td>\n",
              "      <td>3.0 and up</td>\n",
              "      <td>Art &amp; Design</td>\n",
              "      <td>Art &amp; Design</td>\n",
              "    </tr>\n",
              "    <tr>\n",
              "      <th>9</th>\n",
              "      <td>Kids Paint Free - Drawing Fun</td>\n",
              "      <td>ART_AND_DESIGN</td>\n",
              "      <td>4.7</td>\n",
              "      <td>121</td>\n",
              "      <td>3.0</td>\n",
              "      <td>10000</td>\n",
              "      <td>Free</td>\n",
              "      <td>0.0</td>\n",
              "      <td>Everyone</td>\n",
              "      <td>Art &amp; Design;Creativity</td>\n",
              "      <td>July 3, 2018</td>\n",
              "      <td>2.8</td>\n",
              "      <td>4.0.3 and up</td>\n",
              "      <td>Art &amp; Design</td>\n",
              "      <td>Creativity</td>\n",
              "    </tr>\n",
              "    <tr>\n",
              "      <th>10</th>\n",
              "      <td>Text on Photo - Fonteee</td>\n",
              "      <td>ART_AND_DESIGN</td>\n",
              "      <td>4.4</td>\n",
              "      <td>13880</td>\n",
              "      <td>28.0</td>\n",
              "      <td>1000000</td>\n",
              "      <td>Free</td>\n",
              "      <td>0.0</td>\n",
              "      <td>Everyone</td>\n",
              "      <td>Art &amp; Design</td>\n",
              "      <td>October 27, 2017</td>\n",
              "      <td>1.0.4</td>\n",
              "      <td>4.1 and up</td>\n",
              "      <td>Art &amp; Design</td>\n",
              "      <td>Art &amp; Design</td>\n",
              "    </tr>\n",
              "    <tr>\n",
              "      <th>11</th>\n",
              "      <td>Name Art Photo Editor - Focus n Filters</td>\n",
              "      <td>ART_AND_DESIGN</td>\n",
              "      <td>4.4</td>\n",
              "      <td>8788</td>\n",
              "      <td>12.0</td>\n",
              "      <td>1000000</td>\n",
              "      <td>Free</td>\n",
              "      <td>0.0</td>\n",
              "      <td>Everyone</td>\n",
              "      <td>Art &amp; Design</td>\n",
              "      <td>July 31, 2018</td>\n",
              "      <td>1.0.15</td>\n",
              "      <td>4.0 and up</td>\n",
              "      <td>Art &amp; Design</td>\n",
              "      <td>Art &amp; Design</td>\n",
              "    </tr>\n",
              "    <tr>\n",
              "      <th>12</th>\n",
              "      <td>Tattoo Name On My Photo Editor</td>\n",
              "      <td>ART_AND_DESIGN</td>\n",
              "      <td>4.2</td>\n",
              "      <td>44829</td>\n",
              "      <td>20.0</td>\n",
              "      <td>10000000</td>\n",
              "      <td>Free</td>\n",
              "      <td>0.0</td>\n",
              "      <td>Teen</td>\n",
              "      <td>Art &amp; Design</td>\n",
              "      <td>April 2, 2018</td>\n",
              "      <td>3.8</td>\n",
              "      <td>4.1 and up</td>\n",
              "      <td>Art &amp; Design</td>\n",
              "      <td>Art &amp; Design</td>\n",
              "    </tr>\n",
              "    <tr>\n",
              "      <th>13</th>\n",
              "      <td>Mandala Coloring Book</td>\n",
              "      <td>ART_AND_DESIGN</td>\n",
              "      <td>4.6</td>\n",
              "      <td>4326</td>\n",
              "      <td>21.0</td>\n",
              "      <td>100000</td>\n",
              "      <td>Free</td>\n",
              "      <td>0.0</td>\n",
              "      <td>Everyone</td>\n",
              "      <td>Art &amp; Design</td>\n",
              "      <td>June 26, 2018</td>\n",
              "      <td>1.0.4</td>\n",
              "      <td>4.4 and up</td>\n",
              "      <td>Art &amp; Design</td>\n",
              "      <td>Art &amp; Design</td>\n",
              "    </tr>\n",
              "    <tr>\n",
              "      <th>14</th>\n",
              "      <td>3D Color Pixel by Number - Sandbox Art Coloring</td>\n",
              "      <td>ART_AND_DESIGN</td>\n",
              "      <td>4.4</td>\n",
              "      <td>1518</td>\n",
              "      <td>37.0</td>\n",
              "      <td>100000</td>\n",
              "      <td>Free</td>\n",
              "      <td>0.0</td>\n",
              "      <td>Everyone</td>\n",
              "      <td>Art &amp; Design</td>\n",
              "      <td>August 3, 2018</td>\n",
              "      <td>1.2.3</td>\n",
              "      <td>2.3 and up</td>\n",
              "      <td>Art &amp; Design</td>\n",
              "      <td>Art &amp; Design</td>\n",
              "    </tr>\n",
              "    <tr>\n",
              "      <th>15</th>\n",
              "      <td>Learn To Draw Kawaii Characters</td>\n",
              "      <td>ART_AND_DESIGN</td>\n",
              "      <td>3.2</td>\n",
              "      <td>55</td>\n",
              "      <td>3.0</td>\n",
              "      <td>5000</td>\n",
              "      <td>Free</td>\n",
              "      <td>0.0</td>\n",
              "      <td>Everyone</td>\n",
              "      <td>Art &amp; Design</td>\n",
              "      <td>June 6, 2018</td>\n",
              "      <td>NaN</td>\n",
              "      <td>4.2 and up</td>\n",
              "      <td>Art &amp; Design</td>\n",
              "      <td>Art &amp; Design</td>\n",
              "    </tr>\n",
              "    <tr>\n",
              "      <th>16</th>\n",
              "      <td>Photo Designer - Write your name with shapes</td>\n",
              "      <td>ART_AND_DESIGN</td>\n",
              "      <td>4.7</td>\n",
              "      <td>3632</td>\n",
              "      <td>6.0</td>\n",
              "      <td>500000</td>\n",
              "      <td>Free</td>\n",
              "      <td>0.0</td>\n",
              "      <td>Everyone</td>\n",
              "      <td>Art &amp; Design</td>\n",
              "      <td>July 31, 2018</td>\n",
              "      <td>3.1</td>\n",
              "      <td>4.1 and up</td>\n",
              "      <td>Art &amp; Design</td>\n",
              "      <td>Art &amp; Design</td>\n",
              "    </tr>\n",
              "    <tr>\n",
              "      <th>17</th>\n",
              "      <td>350 Diy Room Decor Ideas</td>\n",
              "      <td>ART_AND_DESIGN</td>\n",
              "      <td>4.5</td>\n",
              "      <td>27</td>\n",
              "      <td>17.0</td>\n",
              "      <td>10000</td>\n",
              "      <td>Free</td>\n",
              "      <td>0.0</td>\n",
              "      <td>Everyone</td>\n",
              "      <td>Art &amp; Design</td>\n",
              "      <td>November 7, 2017</td>\n",
              "      <td>1.0</td>\n",
              "      <td>2.3 and up</td>\n",
              "      <td>Art &amp; Design</td>\n",
              "      <td>Art &amp; Design</td>\n",
              "    </tr>\n",
              "    <tr>\n",
              "      <th>18</th>\n",
              "      <td>FlipaClip - Cartoon animation</td>\n",
              "      <td>ART_AND_DESIGN</td>\n",
              "      <td>4.3</td>\n",
              "      <td>194216</td>\n",
              "      <td>39.0</td>\n",
              "      <td>5000000</td>\n",
              "      <td>Free</td>\n",
              "      <td>0.0</td>\n",
              "      <td>Everyone</td>\n",
              "      <td>Art &amp; Design</td>\n",
              "      <td>August 3, 2018</td>\n",
              "      <td>2.2.5</td>\n",
              "      <td>4.0.3 and up</td>\n",
              "      <td>Art &amp; Design</td>\n",
              "      <td>Art &amp; Design</td>\n",
              "    </tr>\n",
              "    <tr>\n",
              "      <th>19</th>\n",
              "      <td>ibis Paint X</td>\n",
              "      <td>ART_AND_DESIGN</td>\n",
              "      <td>4.6</td>\n",
              "      <td>224399</td>\n",
              "      <td>31.0</td>\n",
              "      <td>10000000</td>\n",
              "      <td>Free</td>\n",
              "      <td>0.0</td>\n",
              "      <td>Everyone</td>\n",
              "      <td>Art &amp; Design</td>\n",
              "      <td>July 30, 2018</td>\n",
              "      <td>5.5.4</td>\n",
              "      <td>4.1 and up</td>\n",
              "      <td>Art &amp; Design</td>\n",
              "      <td>Art &amp; Design</td>\n",
              "    </tr>\n",
              "    <tr>\n",
              "      <th>20</th>\n",
              "      <td>Logo Maker - Small Business</td>\n",
              "      <td>ART_AND_DESIGN</td>\n",
              "      <td>4.0</td>\n",
              "      <td>450</td>\n",
              "      <td>14.0</td>\n",
              "      <td>100000</td>\n",
              "      <td>Free</td>\n",
              "      <td>0.0</td>\n",
              "      <td>Everyone</td>\n",
              "      <td>Art &amp; Design</td>\n",
              "      <td>April 20, 2018</td>\n",
              "      <td>4.0</td>\n",
              "      <td>4.1 and up</td>\n",
              "      <td>Art &amp; Design</td>\n",
              "      <td>Art &amp; Design</td>\n",
              "    </tr>\n",
              "    <tr>\n",
              "      <th>21</th>\n",
              "      <td>Boys Photo Editor - Six Pack &amp; Men's Suit</td>\n",
              "      <td>ART_AND_DESIGN</td>\n",
              "      <td>4.1</td>\n",
              "      <td>654</td>\n",
              "      <td>12.0</td>\n",
              "      <td>100000</td>\n",
              "      <td>Free</td>\n",
              "      <td>0.0</td>\n",
              "      <td>Everyone</td>\n",
              "      <td>Art &amp; Design</td>\n",
              "      <td>March 20, 2018</td>\n",
              "      <td>1.1</td>\n",
              "      <td>4.0.3 and up</td>\n",
              "      <td>Art &amp; Design</td>\n",
              "      <td>Art &amp; Design</td>\n",
              "    </tr>\n",
              "    <tr>\n",
              "      <th>22</th>\n",
              "      <td>Superheroes Wallpapers | 4K Backgrounds</td>\n",
              "      <td>ART_AND_DESIGN</td>\n",
              "      <td>4.7</td>\n",
              "      <td>7699</td>\n",
              "      <td>4.0</td>\n",
              "      <td>500000</td>\n",
              "      <td>Free</td>\n",
              "      <td>0.0</td>\n",
              "      <td>Everyone 10+</td>\n",
              "      <td>Art &amp; Design</td>\n",
              "      <td>July 12, 2018</td>\n",
              "      <td>2.2.6.2</td>\n",
              "      <td>4.0.3 and up</td>\n",
              "      <td>Art &amp; Design</td>\n",
              "      <td>Art &amp; Design</td>\n",
              "    </tr>\n",
              "    <tr>\n",
              "      <th>23</th>\n",
              "      <td>Mcqueen Coloring pages</td>\n",
              "      <td>ART_AND_DESIGN</td>\n",
              "      <td>NaN</td>\n",
              "      <td>61</td>\n",
              "      <td>7.0</td>\n",
              "      <td>100000</td>\n",
              "      <td>Free</td>\n",
              "      <td>0.0</td>\n",
              "      <td>Everyone</td>\n",
              "      <td>Art &amp; Design;Action &amp; Adventure</td>\n",
              "      <td>March 7, 2018</td>\n",
              "      <td>1.0.0</td>\n",
              "      <td>4.1 and up</td>\n",
              "      <td>Art &amp; Design</td>\n",
              "      <td>Action &amp; Adventure</td>\n",
              "    </tr>\n",
              "    <tr>\n",
              "      <th>24</th>\n",
              "      <td>HD Mickey Minnie Wallpapers</td>\n",
              "      <td>ART_AND_DESIGN</td>\n",
              "      <td>4.7</td>\n",
              "      <td>118</td>\n",
              "      <td>23.0</td>\n",
              "      <td>50000</td>\n",
              "      <td>Free</td>\n",
              "      <td>0.0</td>\n",
              "      <td>Everyone</td>\n",
              "      <td>Art &amp; Design</td>\n",
              "      <td>July 7, 2018</td>\n",
              "      <td>1.1.3</td>\n",
              "      <td>4.1 and up</td>\n",
              "      <td>Art &amp; Design</td>\n",
              "      <td>Art &amp; Design</td>\n",
              "    </tr>\n",
              "    <tr>\n",
              "      <th>25</th>\n",
              "      <td>Harley Quinn wallpapers HD</td>\n",
              "      <td>ART_AND_DESIGN</td>\n",
              "      <td>4.8</td>\n",
              "      <td>192</td>\n",
              "      <td>6.0</td>\n",
              "      <td>10000</td>\n",
              "      <td>Free</td>\n",
              "      <td>0.0</td>\n",
              "      <td>Everyone</td>\n",
              "      <td>Art &amp; Design</td>\n",
              "      <td>April 25, 2018</td>\n",
              "      <td>1.5</td>\n",
              "      <td>3.0 and up</td>\n",
              "      <td>Art &amp; Design</td>\n",
              "      <td>Art &amp; Design</td>\n",
              "    </tr>\n",
              "    <tr>\n",
              "      <th>26</th>\n",
              "      <td>Colorfit - Drawing &amp; Coloring</td>\n",
              "      <td>ART_AND_DESIGN</td>\n",
              "      <td>4.7</td>\n",
              "      <td>20260</td>\n",
              "      <td>25.0</td>\n",
              "      <td>500000</td>\n",
              "      <td>Free</td>\n",
              "      <td>0.0</td>\n",
              "      <td>Everyone</td>\n",
              "      <td>Art &amp; Design;Creativity</td>\n",
              "      <td>October 11, 2017</td>\n",
              "      <td>1.0.8</td>\n",
              "      <td>4.0.3 and up</td>\n",
              "      <td>Art &amp; Design</td>\n",
              "      <td>Creativity</td>\n",
              "    </tr>\n",
              "    <tr>\n",
              "      <th>27</th>\n",
              "      <td>Animated Photo Editor</td>\n",
              "      <td>ART_AND_DESIGN</td>\n",
              "      <td>4.1</td>\n",
              "      <td>203</td>\n",
              "      <td>6.0</td>\n",
              "      <td>100000</td>\n",
              "      <td>Free</td>\n",
              "      <td>0.0</td>\n",
              "      <td>Everyone</td>\n",
              "      <td>Art &amp; Design</td>\n",
              "      <td>March 21, 2018</td>\n",
              "      <td>1.03</td>\n",
              "      <td>4.0.3 and up</td>\n",
              "      <td>Art &amp; Design</td>\n",
              "      <td>Art &amp; Design</td>\n",
              "    </tr>\n",
              "    <tr>\n",
              "      <th>28</th>\n",
              "      <td>Pencil Sketch Drawing</td>\n",
              "      <td>ART_AND_DESIGN</td>\n",
              "      <td>3.9</td>\n",
              "      <td>136</td>\n",
              "      <td>5.0</td>\n",
              "      <td>10000</td>\n",
              "      <td>Free</td>\n",
              "      <td>0.0</td>\n",
              "      <td>Everyone</td>\n",
              "      <td>Art &amp; Design</td>\n",
              "      <td>July 12, 2018</td>\n",
              "      <td>6.0</td>\n",
              "      <td>2.3 and up</td>\n",
              "      <td>Art &amp; Design</td>\n",
              "      <td>Art &amp; Design</td>\n",
              "    </tr>\n",
              "    <tr>\n",
              "      <th>29</th>\n",
              "      <td>Easy Realistic Drawing Tutorial</td>\n",
              "      <td>ART_AND_DESIGN</td>\n",
              "      <td>4.1</td>\n",
              "      <td>223</td>\n",
              "      <td>4.0</td>\n",
              "      <td>100000</td>\n",
              "      <td>Free</td>\n",
              "      <td>0.0</td>\n",
              "      <td>Everyone</td>\n",
              "      <td>Art &amp; Design</td>\n",
              "      <td>August 22, 2017</td>\n",
              "      <td>1.0</td>\n",
              "      <td>2.3 and up</td>\n",
              "      <td>Art &amp; Design</td>\n",
              "      <td>Art &amp; Design</td>\n",
              "    </tr>\n",
              "    <tr>\n",
              "      <th>...</th>\n",
              "      <td>...</td>\n",
              "      <td>...</td>\n",
              "      <td>...</td>\n",
              "      <td>...</td>\n",
              "      <td>...</td>\n",
              "      <td>...</td>\n",
              "      <td>...</td>\n",
              "      <td>...</td>\n",
              "      <td>...</td>\n",
              "      <td>...</td>\n",
              "      <td>...</td>\n",
              "      <td>...</td>\n",
              "      <td>...</td>\n",
              "      <td>...</td>\n",
              "      <td>...</td>\n",
              "    </tr>\n",
              "    <tr>\n",
              "      <th>10811</th>\n",
              "      <td>FR Plus 1.6</td>\n",
              "      <td>AUTO_AND_VEHICLES</td>\n",
              "      <td>NaN</td>\n",
              "      <td>4</td>\n",
              "      <td>4.0</td>\n",
              "      <td>100</td>\n",
              "      <td>Free</td>\n",
              "      <td>0.0</td>\n",
              "      <td>Everyone</td>\n",
              "      <td>Auto &amp; Vehicles</td>\n",
              "      <td>July 24, 2018</td>\n",
              "      <td>1.3.6</td>\n",
              "      <td>4.4W and up</td>\n",
              "      <td>Auto &amp; Vehicles</td>\n",
              "      <td>Auto &amp; Vehicles</td>\n",
              "    </tr>\n",
              "    <tr>\n",
              "      <th>10812</th>\n",
              "      <td>Fr Agnel Pune</td>\n",
              "      <td>FAMILY</td>\n",
              "      <td>4.1</td>\n",
              "      <td>80</td>\n",
              "      <td>13.0</td>\n",
              "      <td>1000</td>\n",
              "      <td>Free</td>\n",
              "      <td>0.0</td>\n",
              "      <td>Everyone</td>\n",
              "      <td>Education</td>\n",
              "      <td>June 13, 2018</td>\n",
              "      <td>2.0.20</td>\n",
              "      <td>4.0.3 and up</td>\n",
              "      <td>Education</td>\n",
              "      <td>Education</td>\n",
              "    </tr>\n",
              "    <tr>\n",
              "      <th>10813</th>\n",
              "      <td>DICT.fr Mobile</td>\n",
              "      <td>BUSINESS</td>\n",
              "      <td>NaN</td>\n",
              "      <td>20</td>\n",
              "      <td>3.0</td>\n",
              "      <td>10000</td>\n",
              "      <td>Free</td>\n",
              "      <td>0.0</td>\n",
              "      <td>Everyone</td>\n",
              "      <td>Business</td>\n",
              "      <td>July 17, 2018</td>\n",
              "      <td>2.1.10</td>\n",
              "      <td>4.1 and up</td>\n",
              "      <td>Business</td>\n",
              "      <td>Business</td>\n",
              "    </tr>\n",
              "    <tr>\n",
              "      <th>10814</th>\n",
              "      <td>FR: My Secret Pets!</td>\n",
              "      <td>FAMILY</td>\n",
              "      <td>4.0</td>\n",
              "      <td>785</td>\n",
              "      <td>31.0</td>\n",
              "      <td>50000</td>\n",
              "      <td>Free</td>\n",
              "      <td>0.0</td>\n",
              "      <td>Teen</td>\n",
              "      <td>Entertainment</td>\n",
              "      <td>June 3, 2015</td>\n",
              "      <td>1.3.1</td>\n",
              "      <td>3.0 and up</td>\n",
              "      <td>Entertainment</td>\n",
              "      <td>Entertainment</td>\n",
              "    </tr>\n",
              "    <tr>\n",
              "      <th>10815</th>\n",
              "      <td>Golden Dictionary (FR-AR)</td>\n",
              "      <td>BOOKS_AND_REFERENCE</td>\n",
              "      <td>4.2</td>\n",
              "      <td>5775</td>\n",
              "      <td>5.0</td>\n",
              "      <td>500000</td>\n",
              "      <td>Free</td>\n",
              "      <td>0.0</td>\n",
              "      <td>Everyone</td>\n",
              "      <td>Books &amp; Reference</td>\n",
              "      <td>July 19, 2018</td>\n",
              "      <td>7.0.4.6</td>\n",
              "      <td>4.2 and up</td>\n",
              "      <td>Books &amp; Reference</td>\n",
              "      <td>Books &amp; Reference</td>\n",
              "    </tr>\n",
              "    <tr>\n",
              "      <th>10816</th>\n",
              "      <td>FieldBi FR Offline</td>\n",
              "      <td>BUSINESS</td>\n",
              "      <td>NaN</td>\n",
              "      <td>2</td>\n",
              "      <td>7.0</td>\n",
              "      <td>100</td>\n",
              "      <td>Free</td>\n",
              "      <td>0.0</td>\n",
              "      <td>Everyone</td>\n",
              "      <td>Business</td>\n",
              "      <td>August 6, 2018</td>\n",
              "      <td>2.1.8</td>\n",
              "      <td>4.1 and up</td>\n",
              "      <td>Business</td>\n",
              "      <td>Business</td>\n",
              "    </tr>\n",
              "    <tr>\n",
              "      <th>10817</th>\n",
              "      <td>HTC Sense Input - FR</td>\n",
              "      <td>TOOLS</td>\n",
              "      <td>4.0</td>\n",
              "      <td>885</td>\n",
              "      <td>8.0</td>\n",
              "      <td>100000</td>\n",
              "      <td>Free</td>\n",
              "      <td>0.0</td>\n",
              "      <td>Everyone</td>\n",
              "      <td>Tools</td>\n",
              "      <td>October 30, 2015</td>\n",
              "      <td>1.0.612928</td>\n",
              "      <td>5.0 and up</td>\n",
              "      <td>Tools</td>\n",
              "      <td>Tools</td>\n",
              "    </tr>\n",
              "    <tr>\n",
              "      <th>10818</th>\n",
              "      <td>Gold Quote - Gold.fr</td>\n",
              "      <td>FINANCE</td>\n",
              "      <td>NaN</td>\n",
              "      <td>96</td>\n",
              "      <td>2.0</td>\n",
              "      <td>10000</td>\n",
              "      <td>Free</td>\n",
              "      <td>0.0</td>\n",
              "      <td>Everyone</td>\n",
              "      <td>Finance</td>\n",
              "      <td>May 19, 2016</td>\n",
              "      <td>2.3</td>\n",
              "      <td>2.2 and up</td>\n",
              "      <td>Finance</td>\n",
              "      <td>Finance</td>\n",
              "    </tr>\n",
              "    <tr>\n",
              "      <th>10819</th>\n",
              "      <td>Fanfic-FR</td>\n",
              "      <td>BOOKS_AND_REFERENCE</td>\n",
              "      <td>3.3</td>\n",
              "      <td>52</td>\n",
              "      <td>4.0</td>\n",
              "      <td>5000</td>\n",
              "      <td>Free</td>\n",
              "      <td>0.0</td>\n",
              "      <td>Teen</td>\n",
              "      <td>Books &amp; Reference</td>\n",
              "      <td>August 5, 2017</td>\n",
              "      <td>0.3.4</td>\n",
              "      <td>4.1 and up</td>\n",
              "      <td>Books &amp; Reference</td>\n",
              "      <td>Books &amp; Reference</td>\n",
              "    </tr>\n",
              "    <tr>\n",
              "      <th>10820</th>\n",
              "      <td>Fr. Daoud Lamei</td>\n",
              "      <td>FAMILY</td>\n",
              "      <td>5.0</td>\n",
              "      <td>22</td>\n",
              "      <td>9.0</td>\n",
              "      <td>1000</td>\n",
              "      <td>Free</td>\n",
              "      <td>0.0</td>\n",
              "      <td>Teen</td>\n",
              "      <td>Education</td>\n",
              "      <td>June 27, 2018</td>\n",
              "      <td>3.8.0</td>\n",
              "      <td>4.1 and up</td>\n",
              "      <td>Education</td>\n",
              "      <td>Education</td>\n",
              "    </tr>\n",
              "    <tr>\n",
              "      <th>10821</th>\n",
              "      <td>Poop FR</td>\n",
              "      <td>FAMILY</td>\n",
              "      <td>NaN</td>\n",
              "      <td>6</td>\n",
              "      <td>2.0</td>\n",
              "      <td>50</td>\n",
              "      <td>Free</td>\n",
              "      <td>0.0</td>\n",
              "      <td>Everyone</td>\n",
              "      <td>Entertainment</td>\n",
              "      <td>May 29, 2018</td>\n",
              "      <td>1.0</td>\n",
              "      <td>4.0.3 and up</td>\n",
              "      <td>Entertainment</td>\n",
              "      <td>Entertainment</td>\n",
              "    </tr>\n",
              "    <tr>\n",
              "      <th>10822</th>\n",
              "      <td>PLMGSS FR</td>\n",
              "      <td>PRODUCTIVITY</td>\n",
              "      <td>NaN</td>\n",
              "      <td>0</td>\n",
              "      <td>3.0</td>\n",
              "      <td>10</td>\n",
              "      <td>Free</td>\n",
              "      <td>0.0</td>\n",
              "      <td>Everyone</td>\n",
              "      <td>Productivity</td>\n",
              "      <td>December 1, 2017</td>\n",
              "      <td>1</td>\n",
              "      <td>4.4 and up</td>\n",
              "      <td>Productivity</td>\n",
              "      <td>Productivity</td>\n",
              "    </tr>\n",
              "    <tr>\n",
              "      <th>10823</th>\n",
              "      <td>List iptv FR</td>\n",
              "      <td>VIDEO_PLAYERS</td>\n",
              "      <td>NaN</td>\n",
              "      <td>1</td>\n",
              "      <td>3.0</td>\n",
              "      <td>100</td>\n",
              "      <td>Free</td>\n",
              "      <td>0.0</td>\n",
              "      <td>Everyone</td>\n",
              "      <td>Video Players &amp; Editors</td>\n",
              "      <td>April 22, 2018</td>\n",
              "      <td>1.0</td>\n",
              "      <td>4.0.3 and up</td>\n",
              "      <td>Video Players &amp; Editors</td>\n",
              "      <td>Video Players &amp; Editors</td>\n",
              "    </tr>\n",
              "    <tr>\n",
              "      <th>10824</th>\n",
              "      <td>Cardio-FR</td>\n",
              "      <td>MEDICAL</td>\n",
              "      <td>NaN</td>\n",
              "      <td>67</td>\n",
              "      <td>82.0</td>\n",
              "      <td>10000</td>\n",
              "      <td>Free</td>\n",
              "      <td>0.0</td>\n",
              "      <td>Everyone</td>\n",
              "      <td>Medical</td>\n",
              "      <td>July 31, 2018</td>\n",
              "      <td>2.2.2</td>\n",
              "      <td>4.4 and up</td>\n",
              "      <td>Medical</td>\n",
              "      <td>Medical</td>\n",
              "    </tr>\n",
              "    <tr>\n",
              "      <th>10825</th>\n",
              "      <td>Naruto &amp; Boruto FR</td>\n",
              "      <td>SOCIAL</td>\n",
              "      <td>NaN</td>\n",
              "      <td>7</td>\n",
              "      <td>8.0</td>\n",
              "      <td>100</td>\n",
              "      <td>Free</td>\n",
              "      <td>0.0</td>\n",
              "      <td>Teen</td>\n",
              "      <td>Social</td>\n",
              "      <td>February 2, 2018</td>\n",
              "      <td>1.0</td>\n",
              "      <td>4.0 and up</td>\n",
              "      <td>Social</td>\n",
              "      <td>Social</td>\n",
              "    </tr>\n",
              "    <tr>\n",
              "      <th>10826</th>\n",
              "      <td>Frim: get new friends on local chat rooms</td>\n",
              "      <td>SOCIAL</td>\n",
              "      <td>4.0</td>\n",
              "      <td>88486</td>\n",
              "      <td>22.0</td>\n",
              "      <td>5000000</td>\n",
              "      <td>Free</td>\n",
              "      <td>0.0</td>\n",
              "      <td>Mature 17+</td>\n",
              "      <td>Social</td>\n",
              "      <td>March 23, 2018</td>\n",
              "      <td>Varies with device</td>\n",
              "      <td>Varies with device</td>\n",
              "      <td>Social</td>\n",
              "      <td>Social</td>\n",
              "    </tr>\n",
              "    <tr>\n",
              "      <th>10827</th>\n",
              "      <td>Fr Agnel Ambarnath</td>\n",
              "      <td>FAMILY</td>\n",
              "      <td>4.2</td>\n",
              "      <td>117</td>\n",
              "      <td>13.0</td>\n",
              "      <td>5000</td>\n",
              "      <td>Free</td>\n",
              "      <td>0.0</td>\n",
              "      <td>Everyone</td>\n",
              "      <td>Education</td>\n",
              "      <td>June 13, 2018</td>\n",
              "      <td>2.0.20</td>\n",
              "      <td>4.0.3 and up</td>\n",
              "      <td>Education</td>\n",
              "      <td>Education</td>\n",
              "    </tr>\n",
              "    <tr>\n",
              "      <th>10828</th>\n",
              "      <td>Manga-FR - Anime Vostfr</td>\n",
              "      <td>COMICS</td>\n",
              "      <td>3.4</td>\n",
              "      <td>291</td>\n",
              "      <td>13.0</td>\n",
              "      <td>10000</td>\n",
              "      <td>Free</td>\n",
              "      <td>0.0</td>\n",
              "      <td>Everyone</td>\n",
              "      <td>Comics</td>\n",
              "      <td>May 15, 2017</td>\n",
              "      <td>2.0.1</td>\n",
              "      <td>4.0 and up</td>\n",
              "      <td>Comics</td>\n",
              "      <td>Comics</td>\n",
              "    </tr>\n",
              "    <tr>\n",
              "      <th>10829</th>\n",
              "      <td>Bulgarian French Dictionary Fr</td>\n",
              "      <td>BOOKS_AND_REFERENCE</td>\n",
              "      <td>4.6</td>\n",
              "      <td>603</td>\n",
              "      <td>7.0</td>\n",
              "      <td>10000</td>\n",
              "      <td>Free</td>\n",
              "      <td>0.0</td>\n",
              "      <td>Everyone</td>\n",
              "      <td>Books &amp; Reference</td>\n",
              "      <td>June 19, 2016</td>\n",
              "      <td>2.96</td>\n",
              "      <td>4.1 and up</td>\n",
              "      <td>Books &amp; Reference</td>\n",
              "      <td>Books &amp; Reference</td>\n",
              "    </tr>\n",
              "    <tr>\n",
              "      <th>10830</th>\n",
              "      <td>News Minecraft.fr</td>\n",
              "      <td>NEWS_AND_MAGAZINES</td>\n",
              "      <td>3.8</td>\n",
              "      <td>881</td>\n",
              "      <td>2.0</td>\n",
              "      <td>100000</td>\n",
              "      <td>Free</td>\n",
              "      <td>0.0</td>\n",
              "      <td>Everyone</td>\n",
              "      <td>News &amp; Magazines</td>\n",
              "      <td>January 20, 2014</td>\n",
              "      <td>1.5</td>\n",
              "      <td>1.6 and up</td>\n",
              "      <td>News &amp; Magazines</td>\n",
              "      <td>News &amp; Magazines</td>\n",
              "    </tr>\n",
              "    <tr>\n",
              "      <th>10831</th>\n",
              "      <td>payermonstationnement.fr</td>\n",
              "      <td>MAPS_AND_NAVIGATION</td>\n",
              "      <td>NaN</td>\n",
              "      <td>38</td>\n",
              "      <td>10.0</td>\n",
              "      <td>5000</td>\n",
              "      <td>Free</td>\n",
              "      <td>0.0</td>\n",
              "      <td>Everyone</td>\n",
              "      <td>Maps &amp; Navigation</td>\n",
              "      <td>June 13, 2018</td>\n",
              "      <td>2.0.148.0</td>\n",
              "      <td>4.0 and up</td>\n",
              "      <td>Maps &amp; Navigation</td>\n",
              "      <td>Maps &amp; Navigation</td>\n",
              "    </tr>\n",
              "    <tr>\n",
              "      <th>10832</th>\n",
              "      <td>FR Tides</td>\n",
              "      <td>WEATHER</td>\n",
              "      <td>3.8</td>\n",
              "      <td>1195</td>\n",
              "      <td>1.0</td>\n",
              "      <td>100000</td>\n",
              "      <td>Free</td>\n",
              "      <td>0.0</td>\n",
              "      <td>Everyone</td>\n",
              "      <td>Weather</td>\n",
              "      <td>February 16, 2014</td>\n",
              "      <td>6.0</td>\n",
              "      <td>2.1 and up</td>\n",
              "      <td>Weather</td>\n",
              "      <td>Weather</td>\n",
              "    </tr>\n",
              "    <tr>\n",
              "      <th>10833</th>\n",
              "      <td>Chemin (fr)</td>\n",
              "      <td>BOOKS_AND_REFERENCE</td>\n",
              "      <td>4.8</td>\n",
              "      <td>44</td>\n",
              "      <td>1.0</td>\n",
              "      <td>1000</td>\n",
              "      <td>Free</td>\n",
              "      <td>0.0</td>\n",
              "      <td>Everyone</td>\n",
              "      <td>Books &amp; Reference</td>\n",
              "      <td>March 23, 2014</td>\n",
              "      <td>0.8</td>\n",
              "      <td>2.2 and up</td>\n",
              "      <td>Books &amp; Reference</td>\n",
              "      <td>Books &amp; Reference</td>\n",
              "    </tr>\n",
              "    <tr>\n",
              "      <th>10834</th>\n",
              "      <td>FR Calculator</td>\n",
              "      <td>FAMILY</td>\n",
              "      <td>4.0</td>\n",
              "      <td>7</td>\n",
              "      <td>3.0</td>\n",
              "      <td>500</td>\n",
              "      <td>Free</td>\n",
              "      <td>0.0</td>\n",
              "      <td>Everyone</td>\n",
              "      <td>Education</td>\n",
              "      <td>June 18, 2017</td>\n",
              "      <td>1.0.0</td>\n",
              "      <td>4.1 and up</td>\n",
              "      <td>Education</td>\n",
              "      <td>Education</td>\n",
              "    </tr>\n",
              "    <tr>\n",
              "      <th>10835</th>\n",
              "      <td>FR Forms</td>\n",
              "      <td>BUSINESS</td>\n",
              "      <td>NaN</td>\n",
              "      <td>0</td>\n",
              "      <td>10.0</td>\n",
              "      <td>10</td>\n",
              "      <td>Free</td>\n",
              "      <td>0.0</td>\n",
              "      <td>Everyone</td>\n",
              "      <td>Business</td>\n",
              "      <td>September 29, 2016</td>\n",
              "      <td>1.1.5</td>\n",
              "      <td>4.0 and up</td>\n",
              "      <td>Business</td>\n",
              "      <td>Business</td>\n",
              "    </tr>\n",
              "    <tr>\n",
              "      <th>10836</th>\n",
              "      <td>Sya9a Maroc - FR</td>\n",
              "      <td>FAMILY</td>\n",
              "      <td>4.5</td>\n",
              "      <td>38</td>\n",
              "      <td>53.0</td>\n",
              "      <td>5000</td>\n",
              "      <td>Free</td>\n",
              "      <td>0.0</td>\n",
              "      <td>Everyone</td>\n",
              "      <td>Education</td>\n",
              "      <td>July 25, 2017</td>\n",
              "      <td>1.48</td>\n",
              "      <td>4.1 and up</td>\n",
              "      <td>Education</td>\n",
              "      <td>Education</td>\n",
              "    </tr>\n",
              "    <tr>\n",
              "      <th>10837</th>\n",
              "      <td>Fr. Mike Schmitz Audio Teachings</td>\n",
              "      <td>FAMILY</td>\n",
              "      <td>5.0</td>\n",
              "      <td>4</td>\n",
              "      <td>4.0</td>\n",
              "      <td>100</td>\n",
              "      <td>Free</td>\n",
              "      <td>0.0</td>\n",
              "      <td>Everyone</td>\n",
              "      <td>Education</td>\n",
              "      <td>July 6, 2018</td>\n",
              "      <td>1.0</td>\n",
              "      <td>4.1 and up</td>\n",
              "      <td>Education</td>\n",
              "      <td>Education</td>\n",
              "    </tr>\n",
              "    <tr>\n",
              "      <th>10838</th>\n",
              "      <td>Parkinson Exercices FR</td>\n",
              "      <td>MEDICAL</td>\n",
              "      <td>NaN</td>\n",
              "      <td>3</td>\n",
              "      <td>10.0</td>\n",
              "      <td>1000</td>\n",
              "      <td>Free</td>\n",
              "      <td>0.0</td>\n",
              "      <td>Everyone</td>\n",
              "      <td>Medical</td>\n",
              "      <td>January 20, 2017</td>\n",
              "      <td>1.0</td>\n",
              "      <td>2.2 and up</td>\n",
              "      <td>Medical</td>\n",
              "      <td>Medical</td>\n",
              "    </tr>\n",
              "    <tr>\n",
              "      <th>10839</th>\n",
              "      <td>The SCP Foundation DB fr nn5n</td>\n",
              "      <td>BOOKS_AND_REFERENCE</td>\n",
              "      <td>4.5</td>\n",
              "      <td>114</td>\n",
              "      <td>22.0</td>\n",
              "      <td>1000</td>\n",
              "      <td>Free</td>\n",
              "      <td>0.0</td>\n",
              "      <td>Mature 17+</td>\n",
              "      <td>Books &amp; Reference</td>\n",
              "      <td>January 19, 2015</td>\n",
              "      <td>Varies with device</td>\n",
              "      <td>Varies with device</td>\n",
              "      <td>Books &amp; Reference</td>\n",
              "      <td>Books &amp; Reference</td>\n",
              "    </tr>\n",
              "    <tr>\n",
              "      <th>10840</th>\n",
              "      <td>iHoroscope - 2018 Daily Horoscope &amp; Astrology</td>\n",
              "      <td>LIFESTYLE</td>\n",
              "      <td>4.5</td>\n",
              "      <td>398307</td>\n",
              "      <td>19.0</td>\n",
              "      <td>10000000</td>\n",
              "      <td>Free</td>\n",
              "      <td>0.0</td>\n",
              "      <td>Everyone</td>\n",
              "      <td>Lifestyle</td>\n",
              "      <td>July 25, 2018</td>\n",
              "      <td>Varies with device</td>\n",
              "      <td>Varies with device</td>\n",
              "      <td>Lifestyle</td>\n",
              "      <td>Lifestyle</td>\n",
              "    </tr>\n",
              "  </tbody>\n",
              "</table>\n",
              "<p>10840 rows × 15 columns</p>\n",
              "</div>"
            ],
            "text/plain": [
              "                                                     App  ...         Secondary Genres\n",
              "0         Photo Editor & Candy Camera & Grid & ScrapBook  ...             Art & Design\n",
              "1                                    Coloring book moana  ...             Pretend Play\n",
              "2      U Launcher Lite – FREE Live Cool Themes, Hide ...  ...             Art & Design\n",
              "3                                  Sketch - Draw & Paint  ...             Art & Design\n",
              "4                  Pixel Draw - Number Art Coloring Book  ...               Creativity\n",
              "5                             Paper flowers instructions  ...             Art & Design\n",
              "6                Smoke Effect Photo Maker - Smoke Editor  ...             Art & Design\n",
              "7                                       Infinite Painter  ...             Art & Design\n",
              "8                                   Garden Coloring Book  ...             Art & Design\n",
              "9                          Kids Paint Free - Drawing Fun  ...               Creativity\n",
              "10                               Text on Photo - Fonteee  ...             Art & Design\n",
              "11               Name Art Photo Editor - Focus n Filters  ...             Art & Design\n",
              "12                        Tattoo Name On My Photo Editor  ...             Art & Design\n",
              "13                                 Mandala Coloring Book  ...             Art & Design\n",
              "14       3D Color Pixel by Number - Sandbox Art Coloring  ...             Art & Design\n",
              "15                       Learn To Draw Kawaii Characters  ...             Art & Design\n",
              "16          Photo Designer - Write your name with shapes  ...             Art & Design\n",
              "17                              350 Diy Room Decor Ideas  ...             Art & Design\n",
              "18                         FlipaClip - Cartoon animation  ...             Art & Design\n",
              "19                                          ibis Paint X  ...             Art & Design\n",
              "20                           Logo Maker - Small Business  ...             Art & Design\n",
              "21             Boys Photo Editor - Six Pack & Men's Suit  ...             Art & Design\n",
              "22               Superheroes Wallpapers | 4K Backgrounds  ...             Art & Design\n",
              "23                                Mcqueen Coloring pages  ...       Action & Adventure\n",
              "24                           HD Mickey Minnie Wallpapers  ...             Art & Design\n",
              "25                            Harley Quinn wallpapers HD  ...             Art & Design\n",
              "26                         Colorfit - Drawing & Coloring  ...               Creativity\n",
              "27                                 Animated Photo Editor  ...             Art & Design\n",
              "28                                 Pencil Sketch Drawing  ...             Art & Design\n",
              "29                       Easy Realistic Drawing Tutorial  ...             Art & Design\n",
              "...                                                  ...  ...                      ...\n",
              "10811                                        FR Plus 1.6  ...          Auto & Vehicles\n",
              "10812                                      Fr Agnel Pune  ...                Education\n",
              "10813                                     DICT.fr Mobile  ...                 Business\n",
              "10814                               FR: My Secret Pets!   ...            Entertainment\n",
              "10815                          Golden Dictionary (FR-AR)  ...        Books & Reference\n",
              "10816                                 FieldBi FR Offline  ...                 Business\n",
              "10817                               HTC Sense Input - FR  ...                    Tools\n",
              "10818                               Gold Quote - Gold.fr  ...                  Finance\n",
              "10819                                          Fanfic-FR  ...        Books & Reference\n",
              "10820                                    Fr. Daoud Lamei  ...                Education\n",
              "10821                                            Poop FR  ...            Entertainment\n",
              "10822                                          PLMGSS FR  ...             Productivity\n",
              "10823                                       List iptv FR  ...  Video Players & Editors\n",
              "10824                                          Cardio-FR  ...                  Medical\n",
              "10825                                 Naruto & Boruto FR  ...                   Social\n",
              "10826          Frim: get new friends on local chat rooms  ...                   Social\n",
              "10827                                 Fr Agnel Ambarnath  ...                Education\n",
              "10828                            Manga-FR - Anime Vostfr  ...                   Comics\n",
              "10829                     Bulgarian French Dictionary Fr  ...        Books & Reference\n",
              "10830                                  News Minecraft.fr  ...         News & Magazines\n",
              "10831                           payermonstationnement.fr  ...        Maps & Navigation\n",
              "10832                                           FR Tides  ...                  Weather\n",
              "10833                                        Chemin (fr)  ...        Books & Reference\n",
              "10834                                      FR Calculator  ...                Education\n",
              "10835                                           FR Forms  ...                 Business\n",
              "10836                                   Sya9a Maroc - FR  ...                Education\n",
              "10837                   Fr. Mike Schmitz Audio Teachings  ...                Education\n",
              "10838                             Parkinson Exercices FR  ...                  Medical\n",
              "10839                      The SCP Foundation DB fr nn5n  ...        Books & Reference\n",
              "10840      iHoroscope - 2018 Daily Horoscope & Astrology  ...                Lifestyle\n",
              "\n",
              "[10840 rows x 15 columns]"
            ]
          },
          "metadata": {
            "tags": []
          },
          "execution_count": 48
        }
      ]
    },
    {
      "cell_type": "code",
      "metadata": {
        "id": "zkQCJMFrfDgf",
        "colab_type": "code",
        "colab": {}
      },
      "source": [
        "# 2. 11 "
      ],
      "execution_count": 0,
      "outputs": []
    },
    {
      "cell_type": "code",
      "metadata": {
        "id": "JxQ2wqtHmYNW",
        "colab_type": "code",
        "colab": {}
      },
      "source": [
        "# df[['pahun_1','pahun_2']]=df['Genres'].str.split(';', expand=True,n=1)\n"
      ],
      "execution_count": 0,
      "outputs": []
    },
    {
      "cell_type": "code",
      "metadata": {
        "id": "swq7o3V4oBpp",
        "colab_type": "code",
        "colab": {}
      },
      "source": [
        "# df['genres'].unique()"
      ],
      "execution_count": 0,
      "outputs": []
    },
    {
      "cell_type": "code",
      "metadata": {
        "id": "eDapHjyPNdTS",
        "colab_type": "code",
        "colab": {}
      },
      "source": [
        "\n",
        "# df[\"Price\"] = df[\"Price\"].apply(convert_dollar_to_none)\n",
        "# df[\"Price\"].unique()"
      ],
      "execution_count": 0,
      "outputs": []
    },
    {
      "cell_type": "code",
      "metadata": {
        "id": "GwW3n0QZR_vM",
        "colab_type": "code",
        "colab": {}
      },
      "source": [
        "# # convert reviews to float\n",
        "# df['Reviews'] = df['Reviews'].apply(lambda x: float(x))\n",
        "# df['Reviews']"
      ],
      "execution_count": 0,
      "outputs": []
    },
    {
      "cell_type": "code",
      "metadata": {
        "id": "dAcyAMY5TMlg",
        "colab_type": "code",
        "colab": {}
      },
      "source": [
        "# import tkinter as tk\n",
        "# from tkinter import filedialog\n",
        "# from pandas import DataFrame\n",
        "\n",
        "# root= tk.Tk()\n",
        "\n",
        "# canvas1 = tk.Canvas(root, width = 300, height = 300, bg = 'lightsteelblue2', relief = 'raised')\n",
        "# canvas1.pack()\n",
        "\n",
        "# def exportCSV ():\n",
        "#     global df\n",
        "    \n",
        "#     export_file_path = filedialog.asksaveasfilename(defaultextension='.csv')\n",
        "#     df.to_csv (export_file_path, index = None, header=True)\n",
        "\n",
        "# saveAsButton_CSV = tk.Button(text='Export CSV', command=exportCSV, bg='green', fg='white', font=('helvetica', 12, 'bold'))\n",
        "# canvas1.create_window(150, 150, window=saveAsButton_CSV)\n",
        "\n",
        "# root.mainloop()"
      ],
      "execution_count": 0,
      "outputs": []
    },
    {
      "cell_type": "code",
      "metadata": {
        "id": "l59AAWDlT5-n",
        "colab_type": "code",
        "colab": {}
      },
      "source": [
        "# df.to_csv('/content/drive/My Drive/e.csv')"
      ],
      "execution_count": 0,
      "outputs": []
    },
    {
      "cell_type": "code",
      "metadata": {
        "id": "6AZXdeYGWH78",
        "colab_type": "code",
        "colab": {}
      },
      "source": [
        "# df['Genres2']=df['Genres'].split(\";\")\n",
        "\n",
        "# df\n"
      ],
      "execution_count": 0,
      "outputs": []
    },
    {
      "cell_type": "code",
      "metadata": {
        "id": "Tf_IM8GrSDH9",
        "colab_type": "code",
        "colab": {
          "base_uri": "https://localhost:8080/",
          "height": 900
        },
        "outputId": "7190821a-fa2a-45ae-e2df-e9208abdc5e6"
      },
      "source": [
        "import os\n",
        "df['Rating'].value_counts().plot(kind=\"barh\", figsize=(15,15));\n",
        "plt.legend(bbox_to_anchor=(1.0,1.0))\n",
        "plt.xlabel('Rating')\n",
        "plt.ylabel('Category')"
      ],
      "execution_count": 153,
      "outputs": [
        {
          "output_type": "execute_result",
          "data": {
            "text/plain": [
              "Text(0, 0.5, 'Category')"
            ]
          },
          "metadata": {
            "tags": []
          },
          "execution_count": 153
        },
        {
          "output_type": "display_data",
          "data": {
            "image/png": "[encoded data removed]",
            "text/plain": [
              "<Figure size 1080x1080 with 1 Axes>"
            ]
          },
          "metadata": {
            "tags": []
          }
        }
      ]
    },
    {
      "cell_type": "code",
      "metadata": {
        "id": "Ul1SbBFvTy-I",
        "colab_type": "code",
        "colab": {
          "base_uri": "https://localhost:8080/",
          "height": 483
        },
        "outputId": "4f1f3f1a-6287-4162-98fe-ec478ca3e421"
      },
      "source": [
        "# Number of install per category\n",
        "\n",
        "plt.figure(figsize = (15, 6))\n",
        "plt.title('Number of installs per category')\n",
        "install_per_category = df.groupby(\"Category\")['Installs'].sum().reset_index()\n",
        "ax = sns.barplot(x=\"Category\", y=\"Installs\", data=install_per_category)\n",
        "ax.set_xticklabels(ax.get_xticklabels(), rotation = 40, ha = 'right')\n",
        "plt.show()"
      ],
      "execution_count": 155,
      "outputs": [
        {
          "output_type": "display_data",
          "data": {
            "image/png": "[encoded data removed]",
            "text/plain": [
              "<Figure size 1080x432 with 1 Axes>"
            ]
          },
          "metadata": {
            "tags": []
          }
        }
      ]
    },
    {
      "cell_type": "code",
      "metadata": {
        "id": "jGbDYpYaUEGy",
        "colab_type": "code",
        "colab": {
          "base_uri": "https://localhost:8080/",
          "height": 483
        },
        "outputId": "e3899a9e-2ec1-4331-bc1f-87aec18efe5e"
      },
      "source": [
        "# Number of apps per category\n",
        "plt.figure(figsize=(15,6))\n",
        "plt.title('Number of apps per category')\n",
        "ax = sns.countplot(x='Category',data = df)\n",
        "ax.set_xticklabels(ax.get_xticklabels(), rotation = 40, ha = 'right')\n",
        "plt.show()"
      ],
      "execution_count": 158,
      "outputs": [
        {
          "output_type": "display_data",
          "data": {
            "image/png": "[encoded data removed]",
            "text/plain": [
              "<Figure size 1080x432 with 1 Axes>"
            ]
          },
          "metadata": {
            "tags": []
          }
        }
      ]
    },
    {
      "cell_type": "code",
      "metadata": {
        "id": "KDOiVvlgUczP",
        "colab_type": "code",
        "colab": {
          "base_uri": "https://localhost:8080/",
          "height": 483
        },
        "outputId": "d750783f-99e5-4c74-b091-32da01c4ad9b"
      },
      "source": [
        "plt.figure(figsize = (15, 6))\n",
        "plt.title('Average Size per Category')\n",
        "size_per_category = df.groupby(\"Category\")['Size'].mean().reset_index()\n",
        "ax = sns.barplot(x=\"Category\", y=\"Size\", data=size_per_category)\n",
        "ax.set_xticklabels(ax.get_xticklabels(), rotation = 40, ha = 'right')\n",
        "plt.show()"
      ],
      "execution_count": 160,
      "outputs": [
        {
          "output_type": "display_data",
          "data": {
            "image/png": "[encoded data removed]",
            "text/plain": [
              "<Figure size 1080x432 with 1 Axes>"
            ]
          },
          "metadata": {
            "tags": []
          }
        }
      ]
    },
    {
      "cell_type": "code",
      "metadata": {
        "id": "b30ads6KUwd3",
        "colab_type": "code",
        "colab": {
          "base_uri": "https://localhost:8080/",
          "height": 404
        },
        "outputId": "ca5b6336-c83a-49f3-e348-1b08021ff4a7"
      },
      "source": [
        "plt.figure(figsize=(15,6))\n",
        "plt.title('Free Apps vs Paid Apps')\n",
        "ax = sns.countplot(x='Type',data = df)\n",
        "plt.show()"
      ],
      "execution_count": 164,
      "outputs": [
        {
          "output_type": "display_data",
          "data": {
            "image/png": "[encoded data removed]",
            "text/plain": [
              "<Figure size 1080x432 with 1 Axes>"
            ]
          },
          "metadata": {
            "tags": []
          }
        }
      ]
    },
    {
      "cell_type": "code",
      "metadata": {
        "id": "tEu_b3dhU8Ia",
        "colab_type": "code",
        "colab": {
          "base_uri": "https://localhost:8080/",
          "height": 36
        },
        "outputId": "cc9000f2-703c-4ec9-c016-62f4242ce659"
      },
      "source": [
        "print(\"Percentage of free apps: \", round(len(df[df['Type'] == \"Free\"])/len(df)*100, 2))"
      ],
      "execution_count": 166,
      "outputs": [
        {
          "output_type": "stream",
          "text": [
            "Percentage of free apps:  92.61\n"
          ],
          "name": "stdout"
        }
      ]
    },
    {
      "cell_type": "code",
      "metadata": {
        "id": "o2kfkBNwVE3s",
        "colab_type": "code",
        "colab": {
          "base_uri": "https://localhost:8080/",
          "height": 404
        },
        "outputId": "719faa6c-0aa1-49b6-8469-af9316eb0f8f"
      },
      "source": [
        "paid_apps = df[df['Price']!=0]\n",
        "plt.figure(figsize=(15,6))\n",
        "plt.title('Distribution of app prices')\n",
        "ax = sns.distplot(paid_apps['Price'])\n",
        "plt.show()"
      ],
      "execution_count": 167,
      "outputs": [
        {
          "output_type": "display_data",
          "data": {
            "image/png": "[encoded data removed]",
            "text/plain": [
              "<Figure size 1080x432 with 1 Axes>"
            ]
          },
          "metadata": {
            "tags": []
          }
        }
      ]
    },
    {
      "cell_type": "code",
      "metadata": {
        "id": "7E3oIV16VRNk",
        "colab_type": "code",
        "colab": {
          "base_uri": "https://localhost:8080/",
          "height": 552
        },
        "outputId": "ce1379f3-2140-4d3b-8a74-85c12b765997"
      },
      "source": [
        "paid_apps[paid_apps['Price'] >= 300]"
      ],
      "execution_count": 168,
      "outputs": [
        {
          "output_type": "execute_result",
          "data": {
            "text/html": [
              "<div>\n",
              "<style scoped>\n",
              "    .dataframe tbody tr th:only-of-type {\n",
              "        vertical-align: middle;\n",
              "    }\n",
              "\n",
              "    .dataframe tbody tr th {\n",
              "        vertical-align: top;\n",
              "    }\n",
              "\n",
              "    .dataframe thead th {\n",
              "        text-align: right;\n",
              "    }\n",
              "</style>\n",
              "<table border=\"1\" class=\"dataframe\">\n",
              "  <thead>\n",
              "    <tr style=\"text-align: right;\">\n",
              "      <th></th>\n",
              "      <th>App</th>\n",
              "      <th>Category</th>\n",
              "      <th>Rating</th>\n",
              "      <th>Reviews</th>\n",
              "      <th>Size</th>\n",
              "      <th>Installs</th>\n",
              "      <th>Type</th>\n",
              "      <th>Price</th>\n",
              "      <th>Content Rating</th>\n",
              "      <th>Genres</th>\n",
              "      <th>Last Updated</th>\n",
              "      <th>Current Ver</th>\n",
              "      <th>Android Ver</th>\n",
              "    </tr>\n",
              "  </thead>\n",
              "  <tbody>\n",
              "    <tr>\n",
              "      <th>4197</th>\n",
              "      <td>most expensive app (H)</td>\n",
              "      <td>FAMILY</td>\n",
              "      <td>4.3</td>\n",
              "      <td>6</td>\n",
              "      <td>2.0</td>\n",
              "      <td>100</td>\n",
              "      <td>Paid</td>\n",
              "      <td>399.99</td>\n",
              "      <td>Everyone</td>\n",
              "      <td>Entertainment</td>\n",
              "      <td>July 16, 2018</td>\n",
              "      <td>1.0</td>\n",
              "      <td>7.0 and up</td>\n",
              "    </tr>\n",
              "    <tr>\n",
              "      <th>4362</th>\n",
              "      <td>💎 I'm rich</td>\n",
              "      <td>LIFESTYLE</td>\n",
              "      <td>3.8</td>\n",
              "      <td>718</td>\n",
              "      <td>26.0</td>\n",
              "      <td>10000</td>\n",
              "      <td>Paid</td>\n",
              "      <td>399.99</td>\n",
              "      <td>Everyone</td>\n",
              "      <td>Lifestyle</td>\n",
              "      <td>March 11, 2018</td>\n",
              "      <td>1.0.0</td>\n",
              "      <td>4.4 and up</td>\n",
              "    </tr>\n",
              "    <tr>\n",
              "      <th>4367</th>\n",
              "      <td>I'm Rich - Trump Edition</td>\n",
              "      <td>LIFESTYLE</td>\n",
              "      <td>3.6</td>\n",
              "      <td>275</td>\n",
              "      <td>7.0</td>\n",
              "      <td>10000</td>\n",
              "      <td>Paid</td>\n",
              "      <td>400.00</td>\n",
              "      <td>Everyone</td>\n",
              "      <td>Lifestyle</td>\n",
              "      <td>May 3, 2018</td>\n",
              "      <td>1.0.1</td>\n",
              "      <td>4.1 and up</td>\n",
              "    </tr>\n",
              "    <tr>\n",
              "      <th>5351</th>\n",
              "      <td>I am rich</td>\n",
              "      <td>LIFESTYLE</td>\n",
              "      <td>3.8</td>\n",
              "      <td>3547</td>\n",
              "      <td>2.0</td>\n",
              "      <td>100000</td>\n",
              "      <td>Paid</td>\n",
              "      <td>399.99</td>\n",
              "      <td>Everyone</td>\n",
              "      <td>Lifestyle</td>\n",
              "      <td>January 12, 2018</td>\n",
              "      <td>2.0</td>\n",
              "      <td>4.0.3 and up</td>\n",
              "    </tr>\n",
              "    <tr>\n",
              "      <th>5354</th>\n",
              "      <td>I am Rich Plus</td>\n",
              "      <td>FAMILY</td>\n",
              "      <td>4.0</td>\n",
              "      <td>856</td>\n",
              "      <td>9.0</td>\n",
              "      <td>10000</td>\n",
              "      <td>Paid</td>\n",
              "      <td>399.99</td>\n",
              "      <td>Everyone</td>\n",
              "      <td>Entertainment</td>\n",
              "      <td>May 19, 2018</td>\n",
              "      <td>3.0</td>\n",
              "      <td>4.4 and up</td>\n",
              "    </tr>\n",
              "    <tr>\n",
              "      <th>5356</th>\n",
              "      <td>I Am Rich Premium</td>\n",
              "      <td>FINANCE</td>\n",
              "      <td>4.1</td>\n",
              "      <td>1867</td>\n",
              "      <td>5.0</td>\n",
              "      <td>50000</td>\n",
              "      <td>Paid</td>\n",
              "      <td>399.99</td>\n",
              "      <td>Everyone</td>\n",
              "      <td>Finance</td>\n",
              "      <td>November 12, 2017</td>\n",
              "      <td>1.6</td>\n",
              "      <td>4.0 and up</td>\n",
              "    </tr>\n",
              "    <tr>\n",
              "      <th>5357</th>\n",
              "      <td>I am extremely Rich</td>\n",
              "      <td>LIFESTYLE</td>\n",
              "      <td>2.9</td>\n",
              "      <td>41</td>\n",
              "      <td>3.0</td>\n",
              "      <td>1000</td>\n",
              "      <td>Paid</td>\n",
              "      <td>379.99</td>\n",
              "      <td>Everyone</td>\n",
              "      <td>Lifestyle</td>\n",
              "      <td>July 1, 2018</td>\n",
              "      <td>1.0</td>\n",
              "      <td>4.0 and up</td>\n",
              "    </tr>\n",
              "    <tr>\n",
              "      <th>5358</th>\n",
              "      <td>I am Rich!</td>\n",
              "      <td>FINANCE</td>\n",
              "      <td>3.8</td>\n",
              "      <td>93</td>\n",
              "      <td>22.0</td>\n",
              "      <td>1000</td>\n",
              "      <td>Paid</td>\n",
              "      <td>399.99</td>\n",
              "      <td>Everyone</td>\n",
              "      <td>Finance</td>\n",
              "      <td>December 11, 2017</td>\n",
              "      <td>1.0</td>\n",
              "      <td>4.1 and up</td>\n",
              "    </tr>\n",
              "    <tr>\n",
              "      <th>5359</th>\n",
              "      <td>I am rich(premium)</td>\n",
              "      <td>FINANCE</td>\n",
              "      <td>3.5</td>\n",
              "      <td>472</td>\n",
              "      <td>1.0</td>\n",
              "      <td>5000</td>\n",
              "      <td>Paid</td>\n",
              "      <td>399.99</td>\n",
              "      <td>Everyone</td>\n",
              "      <td>Finance</td>\n",
              "      <td>May 1, 2017</td>\n",
              "      <td>3.4</td>\n",
              "      <td>4.4 and up</td>\n",
              "    </tr>\n",
              "    <tr>\n",
              "      <th>5362</th>\n",
              "      <td>I Am Rich Pro</td>\n",
              "      <td>FAMILY</td>\n",
              "      <td>4.4</td>\n",
              "      <td>201</td>\n",
              "      <td>3.0</td>\n",
              "      <td>5000</td>\n",
              "      <td>Paid</td>\n",
              "      <td>399.99</td>\n",
              "      <td>Everyone</td>\n",
              "      <td>Entertainment</td>\n",
              "      <td>May 30, 2017</td>\n",
              "      <td>1.54</td>\n",
              "      <td>1.6 and up</td>\n",
              "    </tr>\n",
              "    <tr>\n",
              "      <th>5364</th>\n",
              "      <td>I am rich (Most expensive app)</td>\n",
              "      <td>FINANCE</td>\n",
              "      <td>4.1</td>\n",
              "      <td>129</td>\n",
              "      <td>3.0</td>\n",
              "      <td>1000</td>\n",
              "      <td>Paid</td>\n",
              "      <td>399.99</td>\n",
              "      <td>Teen</td>\n",
              "      <td>Finance</td>\n",
              "      <td>December 6, 2017</td>\n",
              "      <td>2</td>\n",
              "      <td>4.0.3 and up</td>\n",
              "    </tr>\n",
              "    <tr>\n",
              "      <th>5366</th>\n",
              "      <td>I Am Rich</td>\n",
              "      <td>FAMILY</td>\n",
              "      <td>3.6</td>\n",
              "      <td>217</td>\n",
              "      <td>5.0</td>\n",
              "      <td>10000</td>\n",
              "      <td>Paid</td>\n",
              "      <td>389.99</td>\n",
              "      <td>Everyone</td>\n",
              "      <td>Entertainment</td>\n",
              "      <td>June 22, 2018</td>\n",
              "      <td>1.5</td>\n",
              "      <td>4.2 and up</td>\n",
              "    </tr>\n",
              "    <tr>\n",
              "      <th>5369</th>\n",
              "      <td>I am Rich</td>\n",
              "      <td>FINANCE</td>\n",
              "      <td>4.3</td>\n",
              "      <td>180</td>\n",
              "      <td>4.0</td>\n",
              "      <td>5000</td>\n",
              "      <td>Paid</td>\n",
              "      <td>399.99</td>\n",
              "      <td>Everyone</td>\n",
              "      <td>Finance</td>\n",
              "      <td>March 22, 2018</td>\n",
              "      <td>1.0</td>\n",
              "      <td>4.2 and up</td>\n",
              "    </tr>\n",
              "    <tr>\n",
              "      <th>5373</th>\n",
              "      <td>I AM RICH PRO PLUS</td>\n",
              "      <td>FINANCE</td>\n",
              "      <td>4.0</td>\n",
              "      <td>36</td>\n",
              "      <td>41.0</td>\n",
              "      <td>1000</td>\n",
              "      <td>Paid</td>\n",
              "      <td>399.99</td>\n",
              "      <td>Everyone</td>\n",
              "      <td>Finance</td>\n",
              "      <td>June 25, 2018</td>\n",
              "      <td>1.0.2</td>\n",
              "      <td>4.1 and up</td>\n",
              "    </tr>\n",
              "    <tr>\n",
              "      <th>9917</th>\n",
              "      <td>Eu Sou Rico</td>\n",
              "      <td>FINANCE</td>\n",
              "      <td>NaN</td>\n",
              "      <td>0</td>\n",
              "      <td>1.0</td>\n",
              "      <td>0</td>\n",
              "      <td>Paid</td>\n",
              "      <td>394.99</td>\n",
              "      <td>Everyone</td>\n",
              "      <td>Finance</td>\n",
              "      <td>July 11, 2018</td>\n",
              "      <td>1.0</td>\n",
              "      <td>4.0.3 and up</td>\n",
              "    </tr>\n",
              "    <tr>\n",
              "      <th>9934</th>\n",
              "      <td>I'm Rich/Eu sou Rico/أنا غني/我很有錢</td>\n",
              "      <td>LIFESTYLE</td>\n",
              "      <td>NaN</td>\n",
              "      <td>0</td>\n",
              "      <td>40.0</td>\n",
              "      <td>0</td>\n",
              "      <td>Paid</td>\n",
              "      <td>399.99</td>\n",
              "      <td>Everyone</td>\n",
              "      <td>Lifestyle</td>\n",
              "      <td>December 1, 2017</td>\n",
              "      <td>MONEY</td>\n",
              "      <td>4.1 and up</td>\n",
              "    </tr>\n",
              "  </tbody>\n",
              "</table>\n",
              "</div>"
            ],
            "text/plain": [
              "                                    App   Category  ...  Current Ver   Android Ver\n",
              "4197             most expensive app (H)     FAMILY  ...          1.0    7.0 and up\n",
              "4362                         💎 I'm rich  LIFESTYLE  ...        1.0.0    4.4 and up\n",
              "4367           I'm Rich - Trump Edition  LIFESTYLE  ...        1.0.1    4.1 and up\n",
              "5351                          I am rich  LIFESTYLE  ...          2.0  4.0.3 and up\n",
              "5354                     I am Rich Plus     FAMILY  ...          3.0    4.4 and up\n",
              "5356                  I Am Rich Premium    FINANCE  ...          1.6    4.0 and up\n",
              "5357                I am extremely Rich  LIFESTYLE  ...          1.0    4.0 and up\n",
              "5358                         I am Rich!    FINANCE  ...          1.0    4.1 and up\n",
              "5359                 I am rich(premium)    FINANCE  ...          3.4    4.4 and up\n",
              "5362                      I Am Rich Pro     FAMILY  ...         1.54    1.6 and up\n",
              "5364     I am rich (Most expensive app)    FINANCE  ...            2  4.0.3 and up\n",
              "5366                          I Am Rich     FAMILY  ...          1.5    4.2 and up\n",
              "5369                          I am Rich    FINANCE  ...          1.0    4.2 and up\n",
              "5373                 I AM RICH PRO PLUS    FINANCE  ...        1.0.2    4.1 and up\n",
              "9917                        Eu Sou Rico    FINANCE  ...          1.0  4.0.3 and up\n",
              "9934  I'm Rich/Eu sou Rico/أنا غني/我很有錢  LIFESTYLE  ...        MONEY    4.1 and up\n",
              "\n",
              "[16 rows x 13 columns]"
            ]
          },
          "metadata": {
            "tags": []
          },
          "execution_count": 168
        }
      ]
    },
    {
      "cell_type": "code",
      "metadata": {
        "id": "1NKj6csqVqiU",
        "colab_type": "code",
        "colab": {
          "base_uri": "https://localhost:8080/",
          "height": 404
        },
        "outputId": "0a00a040-1f7e-4b57-b4fb-b214a76a9ba0"
      },
      "source": [
        "plt.figure(figsize=(15,6))\n",
        "plt.title('Rating Distribution')\n",
        "ax = sns.countplot(x='Rating', data=df)\n",
        "plt.show()"
      ],
      "execution_count": 171,
      "outputs": [
        {
          "output_type": "display_data",
          "data": {
            "image/png": "[encoded data removed]",
            "text/plain": [
              "<Figure size 1080x432 with 1 Axes>"
            ]
          },
          "metadata": {
            "tags": []
          }
        }
      ]
    }
  ]
}